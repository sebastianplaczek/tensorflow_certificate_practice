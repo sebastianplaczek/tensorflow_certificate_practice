{
 "cells": [
  {
   "cell_type": "code",
   "execution_count": 1,
   "metadata": {
    "collapsed": true
   },
   "outputs": [],
   "source": [
    "import tensorflow as tf\n",
    "\n",
    "from tensorflow.keras.preprocessing.sequence import pad_sequences"
   ]
  },
  {
   "cell_type": "code",
   "execution_count": 2,
   "outputs": [],
   "source": [
    "import pandas as pd\n",
    "\n",
    "dataset = pd.read_csv('tmp/sentiment.csv')\n",
    "\n",
    "# Just extract out sentences and labels first - we will create subwords here\n",
    "sentences = dataset['text'].tolist()\n",
    "labels = dataset['sentiment'].tolist()"
   ],
   "metadata": {
    "collapsed": false
   }
  },
  {
   "cell_type": "code",
   "execution_count": 3,
   "outputs": [],
   "source": [
    "import tensorflow_datasets as tfds\n",
    "\n",
    "vocab_size = 1000\n",
    "tokenizer = tfds.deprecated.text.SubwordTextEncoder.build_from_corpus(sentences, vocab_size, max_subword_length=5)"
   ],
   "metadata": {
    "collapsed": false
   }
  },
  {
   "cell_type": "code",
   "execution_count": 4,
   "outputs": [
    {
     "name": "stdout",
     "output_type": "stream",
     "text": [
      "I have to jiggle the plug to get it to line up right to get decent volume.\n",
      "[4, 31, 6, 849, 162, 450, 12, 1, 600, 438, 775, 6, 175, 14, 6, 55, 213, 159, 474, 775, 6, 175, 614, 380, 295, 148, 72, 789]\n",
      "I \n",
      "have \n",
      "to \n",
      "j\n",
      "ig\n",
      "gl\n",
      "e \n",
      "the \n",
      "pl\n",
      "ug\n",
      " \n",
      "to \n",
      "get \n",
      "it \n",
      "to \n",
      "li\n",
      "ne \n",
      "up \n",
      "right\n",
      " \n",
      "to \n",
      "get \n",
      "dec\n",
      "ent \n",
      "vo\n",
      "lu\n",
      "me\n",
      ".\n"
     ]
    }
   ],
   "source": [
    "# Check that the tokenizer works appropriately\n",
    "num = 5\n",
    "print(sentences[num])\n",
    "encoded = tokenizer.encode(sentences[num])\n",
    "print(encoded)\n",
    "# Separately print out each subword, decoded\n",
    "for i in encoded:\n",
    "    print(tokenizer.decode([i]))"
   ],
   "metadata": {
    "collapsed": false
   }
  },
  {
   "cell_type": "code",
   "execution_count": 5,
   "outputs": [],
   "source": [
    "for i, sentence in enumerate(sentences):\n",
    "    sentences[i] = tokenizer.encode(sentence)"
   ],
   "metadata": {
    "collapsed": false
   }
  },
  {
   "cell_type": "code",
   "execution_count": 6,
   "outputs": [
    {
     "name": "stdout",
     "output_type": "stream",
     "text": [
      "[625, 677, 626, 274, 380, 633, 148, 844, 789]\n"
     ]
    }
   ],
   "source": [
    "# Check the sentences are appropriately replaced\n",
    "print(sentences[1])"
   ],
   "metadata": {
    "collapsed": false
   }
  },
  {
   "cell_type": "code",
   "execution_count": 7,
   "outputs": [],
   "source": [
    "import numpy as np\n",
    "\n",
    "max_length = 50\n",
    "trunc_type='post'\n",
    "padding_type='post'\n",
    "\n",
    "# Pad all sentences\n",
    "sentences_padded = pad_sequences(sentences, maxlen=max_length,\n",
    "                                 padding=padding_type, truncating=trunc_type)\n",
    "\n",
    "# Separate out the sentences and labels into training and test sets\n",
    "training_size = int(len(sentences) * 0.8)\n",
    "\n",
    "training_sentences = sentences_padded[0:training_size]\n",
    "testing_sentences = sentences_padded[training_size:]\n",
    "training_labels = labels[0:training_size]\n",
    "testing_labels = labels[training_size:]\n",
    "\n",
    "# Make labels into numpy arrays for use with the network later\n",
    "training_labels_final = np.array(training_labels)\n",
    "testing_labels_final = np.array(testing_labels)"
   ],
   "metadata": {
    "collapsed": false
   }
  },
  {
   "cell_type": "code",
   "execution_count": 8,
   "outputs": [
    {
     "name": "stdout",
     "output_type": "stream",
     "text": [
      "Model: \"sequential\"\n",
      "_________________________________________________________________\n",
      " Layer (type)                Output Shape              Param #   \n",
      "=================================================================\n",
      " embedding (Embedding)       (None, 50, 16)            16000     \n",
      "                                                                 \n",
      " global_average_pooling1d (G  (None, 16)               0         \n",
      " lobalAveragePooling1D)                                          \n",
      "                                                                 \n",
      " dense (Dense)               (None, 6)                 102       \n",
      "                                                                 \n",
      " dense_1 (Dense)             (None, 1)                 7         \n",
      "                                                                 \n",
      "=================================================================\n",
      "Total params: 16,109\n",
      "Trainable params: 16,109\n",
      "Non-trainable params: 0\n",
      "_________________________________________________________________\n"
     ]
    }
   ],
   "source": [
    "embedding_dim = 16\n",
    "model = tf.keras.Sequential([\n",
    "    tf.keras.layers.Embedding(vocab_size, embedding_dim, input_length=max_length),\n",
    "    tf.keras.layers.GlobalAveragePooling1D(),\n",
    "    tf.keras.layers.Dense(6, activation='relu'),\n",
    "    tf.keras.layers.Dense(1, activation='sigmoid')\n",
    "])\n",
    "\n",
    "model.summary()"
   ],
   "metadata": {
    "collapsed": false
   }
  },
  {
   "cell_type": "code",
   "execution_count": 9,
   "outputs": [
    {
     "name": "stdout",
     "output_type": "stream",
     "text": [
      "Epoch 1/30\n",
      "50/50 [==============================] - 2s 8ms/step - loss: 0.6915 - accuracy: 0.5223 - val_loss: 0.6981 - val_accuracy: 0.4110\n",
      "Epoch 2/30\n",
      "50/50 [==============================] - 0s 6ms/step - loss: 0.6887 - accuracy: 0.5242 - val_loss: 0.6995 - val_accuracy: 0.4135\n",
      "Epoch 3/30\n",
      "50/50 [==============================] - 0s 4ms/step - loss: 0.6847 - accuracy: 0.5518 - val_loss: 0.6933 - val_accuracy: 0.4762\n",
      "Epoch 4/30\n",
      "50/50 [==============================] - 0s 4ms/step - loss: 0.6752 - accuracy: 0.5920 - val_loss: 0.6875 - val_accuracy: 0.5163\n",
      "Epoch 5/30\n",
      "50/50 [==============================] - 0s 4ms/step - loss: 0.6606 - accuracy: 0.6246 - val_loss: 0.6753 - val_accuracy: 0.5539\n",
      "Epoch 6/30\n",
      "50/50 [==============================] - 0s 4ms/step - loss: 0.6402 - accuracy: 0.6824 - val_loss: 0.6559 - val_accuracy: 0.6642\n",
      "Epoch 7/30\n",
      "50/50 [==============================] - 0s 4ms/step - loss: 0.6124 - accuracy: 0.7696 - val_loss: 0.6521 - val_accuracy: 0.5789\n",
      "Epoch 8/30\n",
      "50/50 [==============================] - 0s 4ms/step - loss: 0.5775 - accuracy: 0.7753 - val_loss: 0.6178 - val_accuracy: 0.6917\n",
      "Epoch 9/30\n",
      "50/50 [==============================] - 0s 4ms/step - loss: 0.5368 - accuracy: 0.8180 - val_loss: 0.5942 - val_accuracy: 0.6967\n",
      "Epoch 10/30\n",
      "50/50 [==============================] - 0s 4ms/step - loss: 0.4966 - accuracy: 0.8249 - val_loss: 0.5776 - val_accuracy: 0.6917\n",
      "Epoch 11/30\n",
      "50/50 [==============================] - 0s 4ms/step - loss: 0.4570 - accuracy: 0.8406 - val_loss: 0.5642 - val_accuracy: 0.7018\n",
      "Epoch 12/30\n",
      "50/50 [==============================] - 0s 4ms/step - loss: 0.4224 - accuracy: 0.8556 - val_loss: 0.5354 - val_accuracy: 0.7419\n",
      "Epoch 13/30\n",
      "50/50 [==============================] - 0s 4ms/step - loss: 0.3917 - accuracy: 0.8707 - val_loss: 0.5211 - val_accuracy: 0.7419\n",
      "Epoch 14/30\n",
      "50/50 [==============================] - 0s 4ms/step - loss: 0.3653 - accuracy: 0.8726 - val_loss: 0.5190 - val_accuracy: 0.7444\n",
      "Epoch 15/30\n",
      "50/50 [==============================] - 0s 4ms/step - loss: 0.3440 - accuracy: 0.8751 - val_loss: 0.5035 - val_accuracy: 0.7519\n",
      "Epoch 16/30\n",
      "50/50 [==============================] - 0s 4ms/step - loss: 0.3231 - accuracy: 0.8858 - val_loss: 0.5028 - val_accuracy: 0.7519\n",
      "Epoch 17/30\n",
      "50/50 [==============================] - 0s 5ms/step - loss: 0.3040 - accuracy: 0.8927 - val_loss: 0.5030 - val_accuracy: 0.7494\n",
      "Epoch 18/30\n",
      "50/50 [==============================] - 0s 5ms/step - loss: 0.2887 - accuracy: 0.9021 - val_loss: 0.4971 - val_accuracy: 0.7494\n",
      "Epoch 19/30\n",
      "50/50 [==============================] - 0s 6ms/step - loss: 0.2767 - accuracy: 0.9033 - val_loss: 0.5265 - val_accuracy: 0.7569\n",
      "Epoch 20/30\n",
      "50/50 [==============================] - 0s 6ms/step - loss: 0.2611 - accuracy: 0.9096 - val_loss: 0.4971 - val_accuracy: 0.7619\n",
      "Epoch 21/30\n",
      "50/50 [==============================] - 0s 5ms/step - loss: 0.2499 - accuracy: 0.9165 - val_loss: 0.5019 - val_accuracy: 0.7594\n",
      "Epoch 22/30\n",
      "50/50 [==============================] - 0s 6ms/step - loss: 0.2396 - accuracy: 0.9240 - val_loss: 0.5432 - val_accuracy: 0.7544\n",
      "Epoch 23/30\n",
      "50/50 [==============================] - 0s 7ms/step - loss: 0.2291 - accuracy: 0.9234 - val_loss: 0.5560 - val_accuracy: 0.7494\n",
      "Epoch 24/30\n",
      "50/50 [==============================] - 0s 5ms/step - loss: 0.2190 - accuracy: 0.9322 - val_loss: 0.5216 - val_accuracy: 0.7544\n",
      "Epoch 25/30\n",
      "50/50 [==============================] - 0s 5ms/step - loss: 0.2124 - accuracy: 0.9303 - val_loss: 0.5405 - val_accuracy: 0.7569\n",
      "Epoch 26/30\n",
      "50/50 [==============================] - 0s 4ms/step - loss: 0.2038 - accuracy: 0.9341 - val_loss: 0.5340 - val_accuracy: 0.7544\n",
      "Epoch 27/30\n",
      "50/50 [==============================] - 0s 5ms/step - loss: 0.1962 - accuracy: 0.9422 - val_loss: 0.5466 - val_accuracy: 0.7519\n",
      "Epoch 28/30\n",
      "50/50 [==============================] - 0s 5ms/step - loss: 0.1885 - accuracy: 0.9429 - val_loss: 0.5720 - val_accuracy: 0.7594\n",
      "Epoch 29/30\n",
      "50/50 [==============================] - 0s 5ms/step - loss: 0.1823 - accuracy: 0.9416 - val_loss: 0.5720 - val_accuracy: 0.7569\n",
      "Epoch 30/30\n",
      "50/50 [==============================] - 0s 6ms/step - loss: 0.1760 - accuracy: 0.9485 - val_loss: 0.5960 - val_accuracy: 0.7619\n"
     ]
    }
   ],
   "source": [
    "num_epochs = 30\n",
    "model.compile(loss='binary_crossentropy',optimizer='adam',metrics=['accuracy'])\n",
    "history = model.fit(training_sentences, training_labels_final, epochs=num_epochs,\n",
    "                    validation_data=(testing_sentences, testing_labels_final))"
   ],
   "metadata": {
    "collapsed": false
   }
  },
  {
   "cell_type": "code",
   "execution_count": 10,
   "outputs": [
    {
     "data": {
      "text/plain": "<Figure size 640x480 with 1 Axes>",
      "image/png": "[encoded data removed]"
     },
     "metadata": {},
     "output_type": "display_data"
    },
    {
     "data": {
      "text/plain": "<Figure size 640x480 with 1 Axes>",
      "image/png": "[encoded data removed]"
     },
     "metadata": {},
     "output_type": "display_data"
    }
   ],
   "source": [
    "import matplotlib.pyplot as plt\n",
    "\n",
    "\n",
    "def plot_graphs(history, string):\n",
    "    plt.plot(history.history[string])\n",
    "    plt.plot(history.history['val_'+string])\n",
    "    plt.xlabel(\"Epochs\")\n",
    "    plt.ylabel(string)\n",
    "    plt.legend([string, 'val_'+string])\n",
    "    plt.show()\n",
    "\n",
    "plot_graphs(history, \"accuracy\")\n",
    "plot_graphs(history, \"loss\")"
   ],
   "metadata": {
    "collapsed": false
   }
  },
  {
   "cell_type": "code",
   "execution_count": 11,
   "outputs": [
    {
     "name": "stdout",
     "output_type": "stream",
     "text": [
      "(1000, 16)\n"
     ]
    }
   ],
   "source": [
    "# First get the weights of the embedding layer\n",
    "e = model.layers[0]\n",
    "weights = e.get_weights()[0]\n",
    "print(weights.shape) # shape: (vocab_size, embedding_dim)"
   ],
   "metadata": {
    "collapsed": false
   }
  },
  {
   "cell_type": "code",
   "execution_count": 12,
   "outputs": [],
   "source": [
    "import io\n",
    "\n",
    "# Write out the embedding vectors and metadata\n",
    "out_v = io.open('vecs.tsv', 'w', encoding='utf-8')\n",
    "out_m = io.open('meta.tsv', 'w', encoding='utf-8')\n",
    "for word_num in range(0, vocab_size - 1):\n",
    "    word = tokenizer.decode([word_num])\n",
    "    embeddings = weights[word_num]\n",
    "    out_m.write(word + \"\\n\")\n",
    "    out_v.write('\\t'.join([str(x) for x in embeddings]) + \"\\n\")\n",
    "out_v.close()\n",
    "out_m.close()"
   ],
   "metadata": {
    "collapsed": false
   }
  },
  {
   "cell_type": "code",
   "execution_count": 13,
   "outputs": [],
   "source": [
    "# Download the files\n",
    "try:\n",
    "    from google.colab import files\n",
    "except ImportError:\n",
    "    pass\n",
    "else:\n",
    "    files.download('vecs.tsv')\n",
    "    files.download('meta.tsv')"
   ],
   "metadata": {
    "collapsed": false
   }
  },
  {
   "cell_type": "code",
   "execution_count": null,
   "outputs": [],
   "source": [],
   "metadata": {
    "collapsed": false
   }
  }
 ],
 "metadata": {
  "kernelspec": {
   "display_name": "Python 3",
   "language": "python",
   "name": "python3"
  },
  "language_info": {
   "codemirror_mode": {
    "name": "ipython",
    "version": 2
   },
   "file_extension": ".py",
   "mimetype": "text/x-python",
   "name": "python",
   "nbconvert_exporter": "python",
   "pygments_lexer": "ipython2",
   "version": "2.7.6"
  }
 },
 "nbformat": 4,
 "nbformat_minor": 0
}
