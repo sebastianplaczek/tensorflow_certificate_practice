{
 "cells": [
  {
   "cell_type": "code",
   "execution_count": 1,
   "metadata": {
    "collapsed": true
   },
   "outputs": [],
   "source": [
    "import tensorflow as tf\n",
    "\n",
    "from tensorflow.keras.preprocessing.text import Tokenizer\n",
    "from tensorflow.keras.preprocessing.sequence import pad_sequences"
   ]
  },
  {
   "cell_type": "code",
   "execution_count": 9,
   "outputs": [],
   "source": [
    "import numpy as np\n",
    "import pandas as pd\n",
    "\n",
    "dataset = pd.read_csv('tmp/sentiment.csv')\n",
    "\n",
    "sentences = dataset['text'].tolist()\n",
    "labels = dataset['sentiment'].tolist()\n",
    "\n",
    "# Separate out the sentences and labels into training and test sets\n",
    "training_size = int(len(sentences) * 0.8)\n",
    "\n",
    "training_sentences = sentences[0:training_size]\n",
    "testing_sentences = sentences[training_size:]\n",
    "training_labels = labels[0:training_size]\n",
    "testing_labels = labels[training_size:]\n",
    "\n",
    "# Make labels into numpy arrays for use with the network later\n",
    "training_labels_final = np.array(training_labels)\n",
    "testing_labels_final = np.array(testing_labels)"
   ],
   "metadata": {
    "collapsed": false
   }
  },
  {
   "cell_type": "code",
   "execution_count": 10,
   "outputs": [],
   "source": [
    "vocab_size = 1000\n",
    "embedding_dim = 16\n",
    "max_length = 100\n",
    "trunc_type='post'\n",
    "padding_type='post'"
   ],
   "metadata": {
    "collapsed": false
   }
  },
  {
   "cell_type": "code",
   "execution_count": 11,
   "outputs": [],
   "source": [
    "vocab_size = 500\n",
    "embedding_dim = 16\n",
    "max_length = 50\n",
    "trunc_type='post'\n",
    "padding_type='post'\n",
    "oov_tok = \"<OOV>\"\n",
    "\n",
    "tokenizer = Tokenizer(num_words = vocab_size, oov_token=oov_tok)\n",
    "tokenizer.fit_on_texts(training_sentences)\n",
    "word_index = tokenizer.word_index\n",
    "training_sequences = tokenizer.texts_to_sequences(training_sentences)\n",
    "training_padded = pad_sequences(training_sequences, maxlen=max_length, padding=padding_type, truncating=trunc_type)\n",
    "\n",
    "testing_sequences = tokenizer.texts_to_sequences(testing_sentences)\n",
    "testing_padded = pad_sequences(testing_sequences, maxlen=max_length, padding=padding_type, truncating=trunc_type)"
   ],
   "metadata": {
    "collapsed": false
   }
  },
  {
   "cell_type": "code",
   "execution_count": 12,
   "outputs": [
    {
     "name": "stdout",
     "output_type": "stream",
     "text": [
      "Model: \"sequential\"\n",
      "_________________________________________________________________\n",
      " Layer (type)                Output Shape              Param #   \n",
      "=================================================================\n",
      " embedding (Embedding)       (None, 50, 16)            8000      \n",
      "                                                                 \n",
      " global_average_pooling1d (G  (None, 16)               0         \n",
      " lobalAveragePooling1D)                                          \n",
      "                                                                 \n",
      " dense (Dense)               (None, 6)                 102       \n",
      "                                                                 \n",
      " dense_1 (Dense)             (None, 1)                 7         \n",
      "                                                                 \n",
      "=================================================================\n",
      "Total params: 8,109\n",
      "Trainable params: 8,109\n",
      "Non-trainable params: 0\n",
      "_________________________________________________________________\n"
     ]
    }
   ],
   "source": [
    "model = tf.keras.Sequential([\n",
    "    tf.keras.layers.Embedding(vocab_size, embedding_dim, input_length=max_length),\n",
    "    tf.keras.layers.GlobalAveragePooling1D(),\n",
    "    tf.keras.layers.Dense(6, activation='relu'),\n",
    "    tf.keras.layers.Dense(1, activation='sigmoid')\n",
    "])\n",
    "model.compile(loss='binary_crossentropy',optimizer='adam',metrics=['accuracy'])\n",
    "model.summary()"
   ],
   "metadata": {
    "collapsed": false
   }
  },
  {
   "cell_type": "code",
   "execution_count": 14,
   "outputs": [
    {
     "name": "stdout",
     "output_type": "stream",
     "text": [
      "Epoch 1/30\n",
      "50/50 [==============================] - 3s 11ms/step - loss: 0.6931 - accuracy: 0.5066 - val_loss: 0.6944 - val_accuracy: 0.4110\n",
      "Epoch 2/30\n",
      "50/50 [==============================] - 0s 7ms/step - loss: 0.6928 - accuracy: 0.5223 - val_loss: 0.6952 - val_accuracy: 0.4110\n",
      "Epoch 3/30\n",
      "50/50 [==============================] - 0s 6ms/step - loss: 0.6927 - accuracy: 0.5204 - val_loss: 0.6956 - val_accuracy: 0.4110\n",
      "Epoch 4/30\n",
      "50/50 [==============================] - 0s 6ms/step - loss: 0.6911 - accuracy: 0.5637 - val_loss: 0.6921 - val_accuracy: 0.5038\n",
      "Epoch 5/30\n",
      "50/50 [==============================] - 0s 6ms/step - loss: 0.6868 - accuracy: 0.6541 - val_loss: 0.6848 - val_accuracy: 0.7043\n",
      "Epoch 6/30\n",
      "50/50 [==============================] - 0s 6ms/step - loss: 0.6802 - accuracy: 0.7213 - val_loss: 0.6771 - val_accuracy: 0.7293\n",
      "Epoch 7/30\n",
      "50/50 [==============================] - 0s 6ms/step - loss: 0.6676 - accuracy: 0.7652 - val_loss: 0.6666 - val_accuracy: 0.7368\n",
      "Epoch 8/30\n",
      "50/50 [==============================] - 0s 5ms/step - loss: 0.6508 - accuracy: 0.7677 - val_loss: 0.6526 - val_accuracy: 0.7519\n",
      "Epoch 9/30\n",
      "50/50 [==============================] - 0s 5ms/step - loss: 0.6299 - accuracy: 0.7765 - val_loss: 0.6281 - val_accuracy: 0.7368\n",
      "Epoch 10/30\n",
      "50/50 [==============================] - 0s 6ms/step - loss: 0.6014 - accuracy: 0.8048 - val_loss: 0.6100 - val_accuracy: 0.7669\n",
      "Epoch 11/30\n",
      "50/50 [==============================] - 0s 5ms/step - loss: 0.5677 - accuracy: 0.8230 - val_loss: 0.5885 - val_accuracy: 0.7744\n",
      "Epoch 12/30\n",
      "50/50 [==============================] - 0s 7ms/step - loss: 0.5353 - accuracy: 0.8242 - val_loss: 0.5740 - val_accuracy: 0.7494\n",
      "Epoch 13/30\n",
      "50/50 [==============================] - 0s 6ms/step - loss: 0.5004 - accuracy: 0.8437 - val_loss: 0.5573 - val_accuracy: 0.7494\n",
      "Epoch 14/30\n",
      "50/50 [==============================] - 0s 6ms/step - loss: 0.4687 - accuracy: 0.8525 - val_loss: 0.5365 - val_accuracy: 0.7694\n",
      "Epoch 15/30\n",
      "50/50 [==============================] - 0s 5ms/step - loss: 0.4407 - accuracy: 0.8550 - val_loss: 0.5377 - val_accuracy: 0.7343\n",
      "Epoch 16/30\n",
      "50/50 [==============================] - 0s 5ms/step - loss: 0.4171 - accuracy: 0.8550 - val_loss: 0.5088 - val_accuracy: 0.7794\n",
      "Epoch 17/30\n",
      "50/50 [==============================] - 0s 5ms/step - loss: 0.3941 - accuracy: 0.8594 - val_loss: 0.5203 - val_accuracy: 0.7368\n",
      "Epoch 18/30\n",
      "50/50 [==============================] - 0s 5ms/step - loss: 0.3737 - accuracy: 0.8738 - val_loss: 0.4970 - val_accuracy: 0.7769\n",
      "Epoch 19/30\n",
      "50/50 [==============================] - 0s 5ms/step - loss: 0.3546 - accuracy: 0.8782 - val_loss: 0.5132 - val_accuracy: 0.7393\n",
      "Epoch 20/30\n",
      "50/50 [==============================] - 0s 5ms/step - loss: 0.3385 - accuracy: 0.8801 - val_loss: 0.4819 - val_accuracy: 0.7845\n",
      "Epoch 21/30\n",
      "50/50 [==============================] - 0s 5ms/step - loss: 0.3238 - accuracy: 0.8864 - val_loss: 0.4926 - val_accuracy: 0.7544\n",
      "Epoch 22/30\n",
      "50/50 [==============================] - 0s 5ms/step - loss: 0.3120 - accuracy: 0.8845 - val_loss: 0.4909 - val_accuracy: 0.7594\n",
      "Epoch 23/30\n",
      "50/50 [==============================] - 0s 5ms/step - loss: 0.3015 - accuracy: 0.8889 - val_loss: 0.5188 - val_accuracy: 0.7218\n",
      "Epoch 24/30\n",
      "50/50 [==============================] - 0s 5ms/step - loss: 0.2910 - accuracy: 0.8927 - val_loss: 0.4840 - val_accuracy: 0.7669\n",
      "Epoch 25/30\n",
      "50/50 [==============================] - 0s 5ms/step - loss: 0.2828 - accuracy: 0.8996 - val_loss: 0.4935 - val_accuracy: 0.7469\n",
      "Epoch 26/30\n",
      "50/50 [==============================] - 0s 6ms/step - loss: 0.2750 - accuracy: 0.8958 - val_loss: 0.5185 - val_accuracy: 0.7268\n",
      "Epoch 27/30\n",
      "50/50 [==============================] - 0s 6ms/step - loss: 0.2674 - accuracy: 0.9002 - val_loss: 0.4908 - val_accuracy: 0.7494\n",
      "Epoch 28/30\n",
      "50/50 [==============================] - 0s 5ms/step - loss: 0.2585 - accuracy: 0.9033 - val_loss: 0.4955 - val_accuracy: 0.7494\n",
      "Epoch 29/30\n",
      "50/50 [==============================] - 0s 5ms/step - loss: 0.2502 - accuracy: 0.9058 - val_loss: 0.5209 - val_accuracy: 0.7343\n",
      "Epoch 30/30\n",
      "50/50 [==============================] - 0s 5ms/step - loss: 0.2459 - accuracy: 0.9040 - val_loss: 0.5216 - val_accuracy: 0.7343\n"
     ]
    }
   ],
   "source": [
    "num_epochs = 30\n",
    "history = model.fit(training_padded, training_labels_final, epochs=num_epochs, validation_data=(testing_padded, testing_labels_final))"
   ],
   "metadata": {
    "collapsed": false
   }
  },
  {
   "cell_type": "code",
   "execution_count": 15,
   "outputs": [
    {
     "data": {
      "text/plain": "<Figure size 640x480 with 1 Axes>",
      "image/png": "[encoded data removed]"
     },
     "metadata": {},
     "output_type": "display_data"
    },
    {
     "data": {
      "text/plain": "<Figure size 640x480 with 1 Axes>",
      "image/png": "[encoded data removed]"
     },
     "metadata": {},
     "output_type": "display_data"
    }
   ],
   "source": [
    "import matplotlib.pyplot as plt\n",
    "\n",
    "\n",
    "def plot_graphs(history, string):\n",
    "    plt.plot(history.history[string])\n",
    "    plt.plot(history.history['val_'+string])\n",
    "    plt.xlabel(\"Epochs\")\n",
    "    plt.ylabel(string)\n",
    "    plt.legend([string, 'val_'+string])\n",
    "    plt.show()\n",
    "\n",
    "plot_graphs(history, \"accuracy\")\n",
    "plot_graphs(history, \"loss\")"
   ],
   "metadata": {
    "collapsed": false
   }
  },
  {
   "cell_type": "code",
   "execution_count": 16,
   "outputs": [
    {
     "name": "stdout",
     "output_type": "stream",
     "text": [
      "(500, 16)\n"
     ]
    }
   ],
   "source": [
    "# First get the weights of the embedding layer\n",
    "e = model.layers[0]\n",
    "weights = e.get_weights()[0]\n",
    "print(weights.shape) # shape: (vocab_size, embedding_dim)"
   ],
   "metadata": {
    "collapsed": false
   }
  },
  {
   "cell_type": "code",
   "execution_count": 17,
   "outputs": [],
   "source": [
    "import io\n",
    "\n",
    "# Create the reverse word index\n",
    "reverse_word_index = dict([(value, key) for (key, value) in word_index.items()])\n",
    "\n",
    "# Write out the embedding vectors and metadata\n",
    "out_v = io.open('vecs.tsv', 'w', encoding='utf-8')\n",
    "out_m = io.open('meta.tsv', 'w', encoding='utf-8')\n",
    "for word_num in range(1, vocab_size):\n",
    "    word = reverse_word_index[word_num]\n",
    "    embeddings = weights[word_num]\n",
    "    out_m.write(word + \"\\n\")\n",
    "    out_v.write('\\t'.join([str(x) for x in embeddings]) + \"\\n\")\n",
    "out_v.close()\n",
    "out_m.close()"
   ],
   "metadata": {
    "collapsed": false
   }
  },
  {
   "cell_type": "code",
   "execution_count": 18,
   "outputs": [],
   "source": [
    "# Download the files\n",
    "try:\n",
    "    from google.colab import files\n",
    "except ImportError:\n",
    "    pass\n",
    "else:\n",
    "    files.download('vecs.tsv')\n",
    "    files.download('meta.tsv')"
   ],
   "metadata": {
    "collapsed": false
   }
  },
  {
   "cell_type": "code",
   "execution_count": 19,
   "outputs": [
    {
     "name": "stdout",
     "output_type": "stream",
     "text": [
      "['I love this phone', 'I hate spaghetti', 'Everything was cold', 'Everything was hot exactly as I wanted', 'Everything was green', 'the host seated us immediately', 'they gave us free chocolate cake', 'not sure about the wilted flowers on the table', 'only works when I stand on tippy toes', 'does not work when I stand on my head']\n",
      "\n",
      "HOT OFF THE PRESS! HERE ARE SOME NEWLY MINTED, ABSOLUTELY GENUINE REVIEWS!\n",
      "\n",
      "1/1 [==============================] - 0s 68ms/step\n",
      "I love this phone\n",
      "[0.9364903]\n",
      "\n",
      "\n",
      "I hate spaghetti\n",
      "[0.16041176]\n",
      "\n",
      "\n",
      "Everything was cold\n",
      "[0.64982754]\n",
      "\n",
      "\n",
      "Everything was hot exactly as I wanted\n",
      "[0.4728102]\n",
      "\n",
      "\n",
      "Everything was green\n",
      "[0.64982754]\n",
      "\n",
      "\n",
      "the host seated us immediately\n",
      "[0.6606019]\n",
      "\n",
      "\n",
      "they gave us free chocolate cake\n",
      "[0.8955264]\n",
      "\n",
      "\n",
      "not sure about the wilted flowers on the table\n",
      "[0.11248594]\n",
      "\n",
      "\n",
      "only works when I stand on tippy toes\n",
      "[0.90185994]\n",
      "\n",
      "\n",
      "does not work when I stand on my head\n",
      "[0.02415347]\n",
      "\n",
      "\n"
     ]
    }
   ],
   "source": [
    "# Use the model to predict a review\n",
    "fake_reviews = ['I love this phone', 'I hate spaghetti',\n",
    "                'Everything was cold',\n",
    "                'Everything was hot exactly as I wanted',\n",
    "                'Everything was green',\n",
    "                'the host seated us immediately',\n",
    "                'they gave us free chocolate cake',\n",
    "                'not sure about the wilted flowers on the table',\n",
    "                'only works when I stand on tippy toes',\n",
    "                'does not work when I stand on my head']\n",
    "\n",
    "print(fake_reviews)\n",
    "\n",
    "# Create the sequences\n",
    "padding_type='post'\n",
    "sample_sequences = tokenizer.texts_to_sequences(fake_reviews)\n",
    "fakes_padded = pad_sequences(sample_sequences, padding=padding_type, maxlen=max_length)\n",
    "\n",
    "print('\\nHOT OFF THE PRESS! HERE ARE SOME NEWLY MINTED, ABSOLUTELY GENUINE REVIEWS!\\n')\n",
    "\n",
    "classes = model.predict(fakes_padded)\n",
    "\n",
    "# The closer the class is to 1, the more positive the review is deemed to be\n",
    "for x in range(len(fake_reviews)):\n",
    "    print(fake_reviews[x])\n",
    "    print(classes[x])\n",
    "    print('\\n')\n",
    "\n",
    "# Try adding reviews of your own\n",
    "# Add some negative words (such as \"not\") to the good reviews and see what happens\n",
    "# For example:\n",
    "# they gave us free chocolate cake and did not charge us"
   ],
   "metadata": {
    "collapsed": false
   }
  },
  {
   "cell_type": "code",
   "execution_count": null,
   "outputs": [],
   "source": [],
   "metadata": {
    "collapsed": false
   }
  }
 ],
 "metadata": {
  "kernelspec": {
   "display_name": "Python 3",
   "language": "python",
   "name": "python3"
  },
  "language_info": {
   "codemirror_mode": {
    "name": "ipython",
    "version": 2
   },
   "file_extension": ".py",
   "mimetype": "text/x-python",
   "name": "python",
   "nbconvert_exporter": "python",
   "pygments_lexer": "ipython2",
   "version": "2.7.6"
  }
 },
 "nbformat": 4,
 "nbformat_minor": 0
}
