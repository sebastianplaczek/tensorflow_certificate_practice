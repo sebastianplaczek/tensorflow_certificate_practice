{
 "cells": [
  {
   "cell_type": "code",
   "execution_count": 1,
   "metadata": {
    "collapsed": true
   },
   "outputs": [],
   "source": [
    "import numpy as np\n",
    "import matplotlib.pyplot as plt\n",
    "import pandas as pd\n",
    "import tensorflow as tf\n",
    "\n",
    "for gpu in tf.config.list_physical_devices('GPU'):\n",
    "    tf.config.experimental.set_memory_growth(gpu, True)\n",
    "keras = tf.keras\n",
    "\n",
    "import datetime\n",
    "\n",
    "class ResetStatesCallback(keras.callbacks.Callback):\n",
    "    def on_epoch_begin(self, epoch, logs):\n",
    "        self.model.reset_states()"
   ]
  },
  {
   "cell_type": "code",
   "execution_count": 2,
   "outputs": [],
   "source": [
    "def trend(time, slope=0):\n",
    "    return slope * time\n",
    "\n",
    "def seasonality(time, period, amplitude=1, phase=0):\n",
    "    \"\"\"Repeats the same pattern at each period\"\"\"\n",
    "    season_time = ((time + phase) % period) / period\n",
    "    return amplitude * seasonal_pattern(season_time)\n",
    "\n",
    "def seasonal_pattern(season_time):\n",
    "    \"\"\"Just an arbitrary pattern, you can change it if you wish\"\"\"\n",
    "    return np.where(season_time < 0.4,\n",
    "                    np.cos(season_time * 2 * np.pi),\n",
    "                    1 / np.exp(3 * season_time))\n",
    "\n",
    "def white_noise(time, noise_level=1, seed=None):\n",
    "    rnd = np.random.RandomState(seed)\n",
    "    return rnd.randn(len(time)) * noise_level\n",
    "\n",
    "def plot_series(time, series, format=\"-\", start=0, end=None, label=None):\n",
    "    plt.plot(time[start:end], series[start:end], format, label=label)\n",
    "    plt.xlabel(\"Time\")\n",
    "    plt.ylabel(\"Value\")\n",
    "    if label:\n",
    "        plt.legend(fontsize=14)\n",
    "    plt.grid(True)"
   ],
   "metadata": {
    "collapsed": false
   }
  },
  {
   "cell_type": "code",
   "execution_count": 3,
   "outputs": [],
   "source": [
    "\n",
    "# for CNN, LSTM,\n",
    "def seq2seq_window_dataset(series, window_size, batch_size=32,\n",
    "                           shuffle_buffer=1000):\n",
    "    series = tf.expand_dims(series, axis=-1)\n",
    "    ds = tf.data.Dataset.from_tensor_slices(series)\n",
    "    ds = ds.window(window_size + 1, shift=1, drop_remainder=True)\n",
    "    ds = ds.flat_map(lambda w: w.batch(window_size + 1))\n",
    "    ds = ds.shuffle(shuffle_buffer)\n",
    "    ds = ds.map(lambda w: (w[:-1], w[1:]))\n",
    "    return ds.batch(batch_size).prefetch(1)\n",
    "\n",
    "#for RNN\n",
    "def window_dataset(series, window_size, batch_size=32,\n",
    "                   shuffle_buffer=1000):\n",
    "    dataset = tf.data.Dataset.from_tensor_slices(series)\n",
    "    dataset = dataset.window(window_size + 1, shift=1, drop_remainder=True)\n",
    "    dataset = dataset.flat_map(lambda window: window.batch(window_size + 1))\n",
    "    dataset = dataset.shuffle(shuffle_buffer)\n",
    "    dataset = dataset.map(lambda window: (window[:-1], window[-1]))\n",
    "    dataset = dataset.batch(batch_size).prefetch(1)\n",
    "    return dataset\n",
    "\n",
    "\n"
   ],
   "metadata": {
    "collapsed": false
   }
  },
  {
   "cell_type": "code",
   "execution_count": 4,
   "outputs": [],
   "source": [
    "df= pd.read_csv('../../datasets/otomoto_daily_income.csv')"
   ],
   "metadata": {
    "collapsed": false
   }
  },
  {
   "cell_type": "code",
   "execution_count": 5,
   "outputs": [],
   "source": [
    "df = df[890:].reset_index()"
   ],
   "metadata": {
    "collapsed": false
   }
  },
  {
   "cell_type": "code",
   "execution_count": 6,
   "outputs": [],
   "source": [
    "\n",
    "df['date'] = df['date'].apply(lambda x: datetime.date(int(x.split('/')[0]),int(x.split('/')[1]),int(x.split('/')[2])))"
   ],
   "metadata": {
    "collapsed": false
   }
  },
  {
   "cell_type": "code",
   "execution_count": 7,
   "outputs": [],
   "source": [
    "start_date = datetime.date(2015,1,1)\n",
    "date_list = []\n",
    "income_list = []\n",
    "current = start_date\n",
    "while current < datetime.date.today():\n",
    "\n",
    "    date_list.append(current)\n",
    "    if df[df['date']==current]['Unnamed: 1'].shape[0]>0:\n",
    "        income_list.append(df[df['date']==current]['Unnamed: 1'].max())\n",
    "    else:\n",
    "        income_list.append(0)\n",
    "\n",
    "\n",
    "    current += datetime.timedelta(days=1)\n",
    "\n",
    "\n",
    "\n"
   ],
   "metadata": {
    "collapsed": false
   }
  },
  {
   "cell_type": "code",
   "execution_count": 9,
   "outputs": [],
   "source": [
    "test_df = pd.DataFrame()\n",
    "test_df['data'] = date_list\n",
    "test_df['income'] = income_list\n",
    "test_df['income'].fillna(0,inplace=True)"
   ],
   "metadata": {
    "collapsed": false
   }
  },
  {
   "cell_type": "code",
   "execution_count": 10,
   "outputs": [],
   "source": [
    "test_df['week'] = test_df['data'].apply(lambda x: x.isocalendar()[1])\n",
    "test_df['year'] =test_df['data'].apply(lambda x: x.isocalendar()[0])\n",
    "test_df['month'] =test_df['data'].apply(lambda x: x.month)"
   ],
   "metadata": {
    "collapsed": false
   }
  },
  {
   "cell_type": "code",
   "execution_count": 166,
   "outputs": [],
   "source": [
    "groupped = test_df.groupby(['year','month'])['income'].sum().reset_index()"
   ],
   "metadata": {
    "collapsed": false
   }
  },
  {
   "cell_type": "code",
   "execution_count": 116,
   "outputs": [
    {
     "data": {
      "text/plain": "[<matplotlib.lines.Line2D at 0x2d5196438e0>]"
     },
     "execution_count": 116,
     "metadata": {},
     "output_type": "execute_result"
    },
    {
     "data": {
      "text/plain": "<Figure size 640x480 with 1 Axes>",
      "image/png": "[encoded data removed]"
     },
     "metadata": {},
     "output_type": "display_data"
    }
   ],
   "source": [
    "plt.plot(date_list,income_list)"
   ],
   "metadata": {
    "collapsed": false
   }
  },
  {
   "cell_type": "code",
   "execution_count": 117,
   "outputs": [
    {
     "data": {
      "text/plain": "[<matplotlib.lines.Line2D at 0x2d565267490>]"
     },
     "execution_count": 117,
     "metadata": {},
     "output_type": "execute_result"
    },
    {
     "data": {
      "text/plain": "<Figure size 640x480 with 1 Axes>",
      "image/png": "[encoded data removed]"
     },
     "metadata": {},
     "output_type": "display_data"
    }
   ],
   "source": [
    "plt.plot(date_list,income_list)"
   ],
   "metadata": {
    "collapsed": false
   }
  },
  {
   "cell_type": "code",
   "execution_count": 64,
   "outputs": [
    {
     "data": {
      "text/plain": "count      2896.000000\nmean      31623.686029\nstd       74057.692778\nmin           0.000000\n25%           0.000000\n50%           0.000000\n75%       35447.545000\nmax      923598.480000\nName: income, dtype: float64"
     },
     "execution_count": 64,
     "metadata": {},
     "output_type": "execute_result"
    }
   ],
   "source": [
    "test_df['income'].describe()"
   ],
   "metadata": {
    "collapsed": false
   }
  },
  {
   "cell_type": "code",
   "execution_count": 171,
   "outputs": [
    {
     "data": {
      "text/plain": "    year  month      income\n84  2022      1  2023374.27\n85  2022      2  2532464.08\n86  2022      3  2720704.89\n87  2022      4  2728413.42\n88  2022      5  2221000.61\n89  2022      6  2640644.66\n90  2022      7  2616073.61\n91  2022      8  1436102.03\n92  2022      9   886355.45\n93  2022     10  2137349.75\n94  2022     11  2320410.43\n95  2022     12   106457.00",
      "text/html": "<div>\n<style scoped>\n    .dataframe tbody tr th:only-of-type {\n        vertical-align: middle;\n    }\n\n    .dataframe tbody tr th {\n        vertical-align: top;\n    }\n\n    .dataframe thead th {\n        text-align: right;\n    }\n</style>\n<table border=\"1\" class=\"dataframe\">\n  <thead>\n    <tr style=\"text-align: right;\">\n      <th></th>\n      <th>year</th>\n      <th>month</th>\n      <th>income</th>\n    </tr>\n  </thead>\n  <tbody>\n    <tr>\n      <th>84</th>\n      <td>2022</td>\n      <td>1</td>\n      <td>2023374.27</td>\n    </tr>\n    <tr>\n      <th>85</th>\n      <td>2022</td>\n      <td>2</td>\n      <td>2532464.08</td>\n    </tr>\n    <tr>\n      <th>86</th>\n      <td>2022</td>\n      <td>3</td>\n      <td>2720704.89</td>\n    </tr>\n    <tr>\n      <th>87</th>\n      <td>2022</td>\n      <td>4</td>\n      <td>2728413.42</td>\n    </tr>\n    <tr>\n      <th>88</th>\n      <td>2022</td>\n      <td>5</td>\n      <td>2221000.61</td>\n    </tr>\n    <tr>\n      <th>89</th>\n      <td>2022</td>\n      <td>6</td>\n      <td>2640644.66</td>\n    </tr>\n    <tr>\n      <th>90</th>\n      <td>2022</td>\n      <td>7</td>\n      <td>2616073.61</td>\n    </tr>\n    <tr>\n      <th>91</th>\n      <td>2022</td>\n      <td>8</td>\n      <td>1436102.03</td>\n    </tr>\n    <tr>\n      <th>92</th>\n      <td>2022</td>\n      <td>9</td>\n      <td>886355.45</td>\n    </tr>\n    <tr>\n      <th>93</th>\n      <td>2022</td>\n      <td>10</td>\n      <td>2137349.75</td>\n    </tr>\n    <tr>\n      <th>94</th>\n      <td>2022</td>\n      <td>11</td>\n      <td>2320410.43</td>\n    </tr>\n    <tr>\n      <th>95</th>\n      <td>2022</td>\n      <td>12</td>\n      <td>106457.00</td>\n    </tr>\n  </tbody>\n</table>\n</div>"
     },
     "execution_count": 171,
     "metadata": {},
     "output_type": "execute_result"
    }
   ],
   "source": [
    "groupped[-12:]"
   ],
   "metadata": {
    "collapsed": false
   }
  },
  {
   "cell_type": "code",
   "execution_count": 11,
   "outputs": [],
   "source": [
    "time = date_list\n",
    "series = np.array(test_df['income'])\n",
    "split_time = 2557\n",
    "# split_time = 1000\n",
    "time_train = time[:split_time]\n",
    "x_train = series[:split_time]\n",
    "time_valid = time[split_time:]\n",
    "x_valid = series[split_time:]"
   ],
   "metadata": {
    "collapsed": false
   }
  },
  {
   "cell_type": "code",
   "execution_count": 12,
   "outputs": [],
   "source": [
    "keras.backend.clear_session()\n",
    "tf.random.set_seed(42)\n",
    "np.random.seed(42)\n",
    "\n",
    "window_size = 30\n",
    "train_set = seq2seq_window_dataset(x_train, window_size,\n",
    "                                   batch_size=32)\n",
    "valid_set = seq2seq_window_dataset(x_valid, window_size,\n",
    "                                   batch_size=32)\n"
   ],
   "metadata": {
    "collapsed": false
   }
  },
  {
   "cell_type": "code",
   "execution_count": 16,
   "outputs": [
    {
     "data": {
      "text/plain": "362749.76"
     },
     "execution_count": 16,
     "metadata": {},
     "output_type": "execute_result"
    }
   ],
   "source": [
    "np.percentile(test_df['income'],99)"
   ],
   "metadata": {
    "collapsed": false
   }
  },
  {
   "cell_type": "code",
   "execution_count": 17,
   "outputs": [
    {
     "name": "stdout",
     "output_type": "stream",
     "text": [
      "Epoch 1/100\n"
     ]
    },
    {
     "name": "stderr",
     "output_type": "stream",
     "text": [
      "C:\\Users\\sebas\\anaconda3\\envs\\tensorflow_1\\lib\\site-packages\\keras\\optimizers\\optimizer_v2\\gradient_descent.py:111: UserWarning: The `lr` argument is deprecated, use `learning_rate` instead.\n",
      "  super().__init__(name, **kwargs)\n"
     ]
    },
    {
     "name": "stdout",
     "output_type": "stream",
     "text": [
      "20/20 [==============================] - 3s 56ms/step - loss: 40152.6484 - mae: 40153.1484 - lr: 1.0000e-08\n",
      "Epoch 2/100\n",
      "20/20 [==============================] - 0s 14ms/step - loss: 31443.4316 - mae: 31443.9316 - lr: 1.1220e-08\n",
      "Epoch 3/100\n",
      "20/20 [==============================] - 0s 11ms/step - loss: 28087.5039 - mae: 28088.0000 - lr: 1.2589e-08\n",
      "Epoch 4/100\n",
      "20/20 [==============================] - 0s 12ms/step - loss: 28090.3301 - mae: 28090.8320 - lr: 1.4125e-08\n",
      "Epoch 5/100\n",
      "20/20 [==============================] - 0s 9ms/step - loss: 27128.1582 - mae: 27128.6562 - lr: 1.5849e-08\n",
      "Epoch 6/100\n",
      "20/20 [==============================] - 0s 8ms/step - loss: 26679.6367 - mae: 26680.1367 - lr: 1.7783e-08\n",
      "Epoch 7/100\n",
      "20/20 [==============================] - 0s 8ms/step - loss: 26209.2852 - mae: 26209.7871 - lr: 1.9953e-08\n",
      "Epoch 8/100\n",
      "20/20 [==============================] - 0s 9ms/step - loss: 25818.9531 - mae: 25819.4512 - lr: 2.2387e-08\n",
      "Epoch 9/100\n",
      "20/20 [==============================] - 0s 8ms/step - loss: 25728.6387 - mae: 25729.1406 - lr: 2.5119e-08\n",
      "Epoch 10/100\n",
      "20/20 [==============================] - 0s 8ms/step - loss: 26141.3652 - mae: 26141.8633 - lr: 2.8184e-08\n",
      "Epoch 11/100\n",
      "20/20 [==============================] - 0s 9ms/step - loss: 27885.8750 - mae: 27886.3770 - lr: 3.1623e-08\n",
      "Epoch 12/100\n",
      "20/20 [==============================] - 0s 8ms/step - loss: 27071.0508 - mae: 27071.5547 - lr: 3.5481e-08\n",
      "Epoch 13/100\n",
      "20/20 [==============================] - 0s 8ms/step - loss: 26065.7734 - mae: 26066.2715 - lr: 3.9811e-08\n",
      "Epoch 14/100\n",
      "20/20 [==============================] - 0s 8ms/step - loss: 26279.7500 - mae: 26280.2500 - lr: 4.4668e-08\n",
      "Epoch 15/100\n",
      "20/20 [==============================] - 0s 8ms/step - loss: 25994.0039 - mae: 25994.5020 - lr: 5.0119e-08\n",
      "Epoch 16/100\n",
      "20/20 [==============================] - 0s 9ms/step - loss: 26317.7266 - mae: 26318.2266 - lr: 5.6234e-08\n",
      "Epoch 17/100\n",
      "20/20 [==============================] - 0s 9ms/step - loss: 27132.8301 - mae: 27133.3320 - lr: 6.3096e-08\n",
      "Epoch 18/100\n",
      "20/20 [==============================] - 0s 10ms/step - loss: 27998.5312 - mae: 27999.0332 - lr: 7.0795e-08\n",
      "Epoch 19/100\n",
      "20/20 [==============================] - 0s 9ms/step - loss: 29873.1895 - mae: 29873.6875 - lr: 7.9433e-08\n",
      "Epoch 20/100\n",
      "20/20 [==============================] - 0s 8ms/step - loss: 30226.6914 - mae: 30227.1875 - lr: 8.9125e-08\n",
      "Epoch 21/100\n",
      "20/20 [==============================] - 0s 8ms/step - loss: 28986.9531 - mae: 28987.4492 - lr: 1.0000e-07\n",
      "Epoch 22/100\n",
      "20/20 [==============================] - 0s 8ms/step - loss: 29104.3359 - mae: 29104.8398 - lr: 1.1220e-07\n",
      "Epoch 23/100\n",
      "20/20 [==============================] - 0s 8ms/step - loss: 28613.2578 - mae: 28613.7617 - lr: 1.2589e-07\n",
      "Epoch 24/100\n",
      "20/20 [==============================] - 0s 9ms/step - loss: 25609.9902 - mae: 25610.4863 - lr: 1.4125e-07\n",
      "Epoch 25/100\n",
      "20/20 [==============================] - 0s 9ms/step - loss: 25328.4941 - mae: 25328.9941 - lr: 1.5849e-07\n",
      "Epoch 26/100\n",
      "20/20 [==============================] - 0s 8ms/step - loss: 26381.5469 - mae: 26382.0488 - lr: 1.7783e-07\n",
      "Epoch 27/100\n",
      "20/20 [==============================] - 0s 8ms/step - loss: 34537.9453 - mae: 34538.4414 - lr: 1.9953e-07\n",
      "Epoch 28/100\n",
      "20/20 [==============================] - 0s 10ms/step - loss: 31275.0742 - mae: 31275.5742 - lr: 2.2387e-07\n",
      "Epoch 29/100\n",
      "20/20 [==============================] - 0s 11ms/step - loss: 26351.8281 - mae: 26352.3242 - lr: 2.5119e-07\n",
      "Epoch 30/100\n",
      "20/20 [==============================] - 0s 7ms/step - loss: 26582.9336 - mae: 26583.4336 - lr: 2.8184e-07\n",
      "Epoch 31/100\n",
      "20/20 [==============================] - 0s 8ms/step - loss: 29874.6621 - mae: 29875.1602 - lr: 3.1623e-07\n",
      "Epoch 32/100\n",
      "20/20 [==============================] - 0s 8ms/step - loss: 32190.8262 - mae: 32191.3262 - lr: 3.5481e-07\n",
      "Epoch 33/100\n",
      "20/20 [==============================] - 0s 7ms/step - loss: 46719.7227 - mae: 46720.2305 - lr: 3.9811e-07\n",
      "Epoch 34/100\n",
      "20/20 [==============================] - 0s 7ms/step - loss: 71434.1172 - mae: 71434.6250 - lr: 4.4668e-07\n",
      "Epoch 35/100\n",
      "20/20 [==============================] - 0s 7ms/step - loss: 41619.0078 - mae: 41619.5078 - lr: 5.0119e-07\n",
      "Epoch 36/100\n",
      "20/20 [==============================] - 0s 7ms/step - loss: 69310.8438 - mae: 69311.3359 - lr: 5.6234e-07\n",
      "Epoch 37/100\n",
      "20/20 [==============================] - 0s 7ms/step - loss: 109126.6719 - mae: 109127.1797 - lr: 6.3096e-07\n",
      "Epoch 38/100\n",
      "20/20 [==============================] - 0s 8ms/step - loss: 67530.6875 - mae: 67531.1797 - lr: 7.0795e-07\n",
      "Epoch 39/100\n",
      "20/20 [==============================] - 0s 8ms/step - loss: 145202.4688 - mae: 145202.9844 - lr: 7.9433e-07\n",
      "Epoch 40/100\n",
      "20/20 [==============================] - 0s 8ms/step - loss: 67028.6172 - mae: 67029.1094 - lr: 8.9125e-07\n",
      "Epoch 41/100\n",
      "20/20 [==============================] - 0s 8ms/step - loss: 95222.4922 - mae: 95222.9688 - lr: 1.0000e-06\n",
      "Epoch 42/100\n",
      "20/20 [==============================] - 0s 8ms/step - loss: 72920.6641 - mae: 72921.1719 - lr: 1.1220e-06\n",
      "Epoch 43/100\n",
      "20/20 [==============================] - 0s 8ms/step - loss: 66427.7500 - mae: 66428.2500 - lr: 1.2589e-06\n",
      "Epoch 44/100\n",
      "20/20 [==============================] - 0s 8ms/step - loss: 84371.8594 - mae: 84372.3594 - lr: 1.4125e-06\n",
      "Epoch 45/100\n",
      "20/20 [==============================] - 0s 9ms/step - loss: 286021.5000 - mae: 286022.0000 - lr: 1.5849e-06\n",
      "Epoch 46/100\n",
      "20/20 [==============================] - 0s 8ms/step - loss: 271489.0000 - mae: 271489.5312 - lr: 1.7783e-06\n",
      "Epoch 47/100\n",
      "20/20 [==============================] - 0s 8ms/step - loss: 244776.7031 - mae: 244777.2031 - lr: 1.9953e-06\n",
      "Epoch 48/100\n",
      "20/20 [==============================] - 0s 8ms/step - loss: 251168.3906 - mae: 251168.8750 - lr: 2.2387e-06\n",
      "Epoch 49/100\n",
      "20/20 [==============================] - 0s 8ms/step - loss: 285262.9062 - mae: 285263.4062 - lr: 2.5119e-06\n",
      "Epoch 50/100\n",
      "20/20 [==============================] - 0s 8ms/step - loss: 316229.1250 - mae: 316229.5938 - lr: 2.8184e-06\n",
      "Epoch 51/100\n",
      "20/20 [==============================] - 0s 8ms/step - loss: 214740.3438 - mae: 214740.8438 - lr: 3.1623e-06\n",
      "Epoch 52/100\n",
      "20/20 [==============================] - 0s 8ms/step - loss: 272949.2500 - mae: 272949.7500 - lr: 3.5481e-06\n",
      "Epoch 53/100\n",
      "20/20 [==============================] - 0s 7ms/step - loss: 214898.2188 - mae: 214898.6875 - lr: 3.9811e-06\n",
      "Epoch 54/100\n",
      "20/20 [==============================] - 0s 9ms/step - loss: 615418.0625 - mae: 615418.4375 - lr: 4.4668e-06\n",
      "Epoch 55/100\n",
      "20/20 [==============================] - 0s 8ms/step - loss: 426613.6250 - mae: 426614.1250 - lr: 5.0119e-06\n",
      "Epoch 56/100\n",
      "20/20 [==============================] - 0s 8ms/step - loss: 664420.0000 - mae: 664420.5000 - lr: 5.6234e-06\n",
      "Epoch 57/100\n",
      "20/20 [==============================] - 0s 8ms/step - loss: 501302.1875 - mae: 501302.7500 - lr: 6.3096e-06\n",
      "Epoch 58/100\n",
      "20/20 [==============================] - 0s 10ms/step - loss: 1032905.3750 - mae: 1032905.7500 - lr: 7.0795e-06\n",
      "Epoch 59/100\n",
      "20/20 [==============================] - 0s 10ms/step - loss: 1050914.8750 - mae: 1050915.3750 - lr: 7.9433e-06\n",
      "Epoch 60/100\n",
      "20/20 [==============================] - 0s 7ms/step - loss: 697886.1250 - mae: 697886.6250 - lr: 8.9125e-06\n",
      "Epoch 61/100\n",
      "20/20 [==============================] - 0s 8ms/step - loss: 535433.0625 - mae: 535433.5625 - lr: 1.0000e-05\n",
      "Epoch 62/100\n",
      "20/20 [==============================] - 0s 8ms/step - loss: 1535718.1250 - mae: 1535718.7500 - lr: 1.1220e-05\n",
      "Epoch 63/100\n",
      "20/20 [==============================] - 0s 8ms/step - loss: 768784.1875 - mae: 768784.7500 - lr: 1.2589e-05\n",
      "Epoch 64/100\n",
      "20/20 [==============================] - 0s 8ms/step - loss: 1337789.2500 - mae: 1337789.6250 - lr: 1.4125e-05\n",
      "Epoch 65/100\n",
      "20/20 [==============================] - 0s 8ms/step - loss: 1747548.0000 - mae: 1747548.3750 - lr: 1.5849e-05\n",
      "Epoch 66/100\n",
      "20/20 [==============================] - 0s 8ms/step - loss: 2041613.5000 - mae: 2041614.1250 - lr: 1.7783e-05\n",
      "Epoch 67/100\n",
      "20/20 [==============================] - 0s 8ms/step - loss: 2276724.2500 - mae: 2276724.5000 - lr: 1.9953e-05\n",
      "Epoch 68/100\n",
      "20/20 [==============================] - 0s 8ms/step - loss: 2314429.0000 - mae: 2314429.2500 - lr: 2.2387e-05\n",
      "Epoch 69/100\n",
      "20/20 [==============================] - 0s 8ms/step - loss: 2151022.5000 - mae: 2151023.5000 - lr: 2.5119e-05\n",
      "Epoch 70/100\n",
      "20/20 [==============================] - 0s 9ms/step - loss: 6909381.5000 - mae: 6909381.5000 - lr: 2.8184e-05\n",
      "Epoch 71/100\n",
      "20/20 [==============================] - 0s 10ms/step - loss: 2608032.2500 - mae: 2608032.5000 - lr: 3.1623e-05\n",
      "Epoch 72/100\n",
      "20/20 [==============================] - 0s 10ms/step - loss: 3461102.2500 - mae: 3461102.5000 - lr: 3.5481e-05\n",
      "Epoch 73/100\n",
      "20/20 [==============================] - 0s 7ms/step - loss: 5509913.0000 - mae: 5509913.5000 - lr: 3.9811e-05\n",
      "Epoch 74/100\n",
      "20/20 [==============================] - 0s 8ms/step - loss: 6070678.0000 - mae: 6070678.5000 - lr: 4.4668e-05\n",
      "Epoch 75/100\n",
      "20/20 [==============================] - 0s 8ms/step - loss: 6853688.5000 - mae: 6853688.0000 - lr: 5.0119e-05\n",
      "Epoch 76/100\n",
      "20/20 [==============================] - 0s 7ms/step - loss: 7763645.5000 - mae: 7763645.5000 - lr: 5.6234e-05\n",
      "Epoch 77/100\n",
      "20/20 [==============================] - 0s 7ms/step - loss: 8046542.5000 - mae: 8046543.0000 - lr: 6.3096e-05\n",
      "Epoch 78/100\n",
      "20/20 [==============================] - 0s 8ms/step - loss: 7229381.5000 - mae: 7229382.5000 - lr: 7.0795e-05\n",
      "Epoch 79/100\n",
      "20/20 [==============================] - 0s 7ms/step - loss: 6520751.5000 - mae: 6520752.0000 - lr: 7.9433e-05\n",
      "Epoch 80/100\n",
      "20/20 [==============================] - 0s 8ms/step - loss: 5691892.0000 - mae: 5691893.0000 - lr: 8.9125e-05\n",
      "Epoch 81/100\n",
      "20/20 [==============================] - 0s 8ms/step - loss: 13516529.0000 - mae: 13516529.0000 - lr: 1.0000e-04\n",
      "Epoch 82/100\n",
      "20/20 [==============================] - 0s 8ms/step - loss: 9179064.0000 - mae: 9179065.0000 - lr: 1.1220e-04\n",
      "Epoch 83/100\n",
      "20/20 [==============================] - 0s 8ms/step - loss: 14954254.0000 - mae: 14954259.0000 - lr: 1.2589e-04\n",
      "Epoch 84/100\n",
      "20/20 [==============================] - 0s 9ms/step - loss: 34885888.0000 - mae: 34885892.0000 - lr: 1.4125e-04\n",
      "Epoch 85/100\n",
      "20/20 [==============================] - 0s 11ms/step - loss: 36356908.0000 - mae: 36356916.0000 - lr: 1.5849e-04\n",
      "Epoch 86/100\n",
      "20/20 [==============================] - 0s 8ms/step - loss: 28117018.0000 - mae: 28117018.0000 - lr: 1.7783e-04\n",
      "Epoch 87/100\n",
      "20/20 [==============================] - 0s 8ms/step - loss: 56672744.0000 - mae: 56672748.0000 - lr: 1.9953e-04\n",
      "Epoch 88/100\n",
      "20/20 [==============================] - 0s 8ms/step - loss: 51403780.0000 - mae: 51403780.0000 - lr: 2.2387e-04\n",
      "Epoch 89/100\n",
      "20/20 [==============================] - 0s 8ms/step - loss: 28519224.0000 - mae: 28519224.0000 - lr: 2.5119e-04\n",
      "Epoch 90/100\n",
      "20/20 [==============================] - 0s 8ms/step - loss: 33590100.0000 - mae: 33590104.0000 - lr: 2.8184e-04\n",
      "Epoch 91/100\n",
      "20/20 [==============================] - 0s 9ms/step - loss: 32157812.0000 - mae: 32157810.0000 - lr: 3.1623e-04\n",
      "Epoch 92/100\n",
      "20/20 [==============================] - 0s 8ms/step - loss: 32236632.0000 - mae: 32236634.0000 - lr: 3.5481e-04\n",
      "Epoch 93/100\n",
      "20/20 [==============================] - 0s 8ms/step - loss: 64523272.0000 - mae: 64523268.0000 - lr: 3.9811e-04\n",
      "Epoch 94/100\n",
      "20/20 [==============================] - 0s 8ms/step - loss: 70187144.0000 - mae: 70187160.0000 - lr: 4.4668e-04\n",
      "Epoch 95/100\n",
      "20/20 [==============================] - 0s 8ms/step - loss: 59849060.0000 - mae: 59849056.0000 - lr: 5.0119e-04\n",
      "Epoch 96/100\n",
      "20/20 [==============================] - 0s 9ms/step - loss: 117139896.0000 - mae: 117139896.0000 - lr: 5.6234e-04\n",
      "Epoch 97/100\n",
      "20/20 [==============================] - 0s 9ms/step - loss: 96174344.0000 - mae: 96174344.0000 - lr: 6.3096e-04\n",
      "Epoch 98/100\n",
      "20/20 [==============================] - 0s 8ms/step - loss: 45572284.0000 - mae: 45572276.0000 - lr: 7.0795e-04\n",
      "Epoch 99/100\n",
      "20/20 [==============================] - 0s 8ms/step - loss: 112789768.0000 - mae: 112789760.0000 - lr: 7.9433e-04\n",
      "Epoch 100/100\n",
      "20/20 [==============================] - 0s 8ms/step - loss: 171802128.0000 - mae: 171802144.0000 - lr: 8.9125e-04\n"
     ]
    }
   ],
   "source": [
    "keras.backend.clear_session()\n",
    "tf.random.set_seed(42)\n",
    "np.random.seed(42)\n",
    "\n",
    "window_size = 30\n",
    "train_set = seq2seq_window_dataset(x_train, window_size,\n",
    "                                   batch_size=128)\n",
    "\n",
    "model = keras.models.Sequential([\n",
    "    keras.layers.Conv1D(filters=32, kernel_size=5,\n",
    "                        strides=1, padding=\"causal\",\n",
    "                        activation=\"relu\",\n",
    "                        input_shape=[None, 1]),\n",
    "    keras.layers.LSTM(32, return_sequences=True),\n",
    "    keras.layers.LSTM(32, return_sequences=True),\n",
    "    keras.layers.Dense(1),\n",
    "    keras.layers.Lambda(lambda x: x * 350000)\n",
    "])\n",
    "lr_schedule = keras.callbacks.LearningRateScheduler(\n",
    "    lambda epoch: 1e-8 * 10**(epoch / 20))\n",
    "optimizer = keras.optimizers.SGD(lr=1e-8, momentum=0.9)\n",
    "model.compile(loss=keras.losses.Huber(),\n",
    "              optimizer=optimizer,\n",
    "              metrics=[\"mae\"])\n",
    "history = model.fit(train_set, epochs=100, callbacks=[lr_schedule])"
   ],
   "metadata": {
    "collapsed": false
   }
  },
  {
   "cell_type": "code",
   "execution_count": 18,
   "outputs": [
    {
     "data": {
      "text/plain": "[<matplotlib.lines.Line2D at 0x1f3cc0fab90>]"
     },
     "execution_count": 18,
     "metadata": {},
     "output_type": "execute_result"
    },
    {
     "data": {
      "text/plain": "<Figure size 640x480 with 1 Axes>",
      "image/png": "[encoded data removed]"
     },
     "metadata": {},
     "output_type": "display_data"
    }
   ],
   "source": [
    "plt.semilogx(history.history[\"lr\"], history.history[\"loss\"])"
   ],
   "metadata": {
    "collapsed": false
   }
  },
  {
   "cell_type": "code",
   "execution_count": 21,
   "outputs": [
    {
     "name": "stdout",
     "output_type": "stream",
     "text": [
      "Epoch 1/500\n",
      "20/20 [==============================] - 3s 56ms/step - loss: 32195.5742 - mae: 32196.0742 - val_loss: 70973.4688 - val_mae: 70973.9688\n",
      "Epoch 2/500\n",
      "20/20 [==============================] - 0s 18ms/step - loss: 27059.5430 - mae: 27060.0449 - val_loss: 65935.6094 - val_mae: 65936.1094\n",
      "Epoch 3/500\n",
      "20/20 [==============================] - 0s 14ms/step - loss: 27722.8438 - mae: 27723.3438 - val_loss: 67215.5781 - val_mae: 67216.0781\n",
      "Epoch 4/500\n",
      "20/20 [==============================] - 0s 14ms/step - loss: 27186.8516 - mae: 27187.3535 - val_loss: 68062.2656 - val_mae: 68062.7734\n",
      "Epoch 5/500\n",
      "20/20 [==============================] - 0s 13ms/step - loss: 27103.5820 - mae: 27104.0840 - val_loss: 66017.2500 - val_mae: 66017.7500\n",
      "Epoch 6/500\n",
      "20/20 [==============================] - 0s 10ms/step - loss: 27154.9668 - mae: 27155.4668 - val_loss: 67369.7578 - val_mae: 67370.2500\n",
      "Epoch 7/500\n",
      "20/20 [==============================] - 0s 12ms/step - loss: 25638.3477 - mae: 25638.8457 - val_loss: 65571.0859 - val_mae: 65571.5859\n",
      "Epoch 8/500\n",
      "20/20 [==============================] - 0s 12ms/step - loss: 27577.4824 - mae: 27577.9766 - val_loss: 68073.9766 - val_mae: 68074.4844\n",
      "Epoch 9/500\n",
      "20/20 [==============================] - 0s 10ms/step - loss: 27392.7891 - mae: 27393.2891 - val_loss: 69630.2188 - val_mae: 69630.7188\n",
      "Epoch 10/500\n",
      "20/20 [==============================] - 0s 10ms/step - loss: 25753.1895 - mae: 25753.6875 - val_loss: 65945.1172 - val_mae: 65945.6172\n",
      "Epoch 11/500\n",
      "20/20 [==============================] - 0s 11ms/step - loss: 26828.7520 - mae: 26829.2500 - val_loss: 66606.4219 - val_mae: 66606.9219\n",
      "Epoch 12/500\n",
      "20/20 [==============================] - 0s 14ms/step - loss: 25817.8711 - mae: 25818.3711 - val_loss: 65235.6680 - val_mae: 65236.1562\n",
      "Epoch 13/500\n",
      "20/20 [==============================] - 0s 11ms/step - loss: 27028.3887 - mae: 27028.8848 - val_loss: 65797.8750 - val_mae: 65798.3750\n",
      "Epoch 14/500\n",
      "20/20 [==============================] - 0s 12ms/step - loss: 26325.9824 - mae: 26326.4824 - val_loss: 64506.0078 - val_mae: 64506.5039\n",
      "Epoch 15/500\n",
      "20/20 [==============================] - 0s 12ms/step - loss: 26426.3613 - mae: 26426.8633 - val_loss: 64285.5234 - val_mae: 64286.0234\n",
      "Epoch 16/500\n",
      "20/20 [==============================] - 0s 12ms/step - loss: 25648.5215 - mae: 25649.0176 - val_loss: 64126.3750 - val_mae: 64126.8711\n",
      "Epoch 17/500\n",
      "20/20 [==============================] - 0s 12ms/step - loss: 27016.2891 - mae: 27016.7891 - val_loss: 64034.2812 - val_mae: 64034.7773\n",
      "Epoch 18/500\n",
      "20/20 [==============================] - 0s 11ms/step - loss: 25933.0820 - mae: 25933.5840 - val_loss: 65981.4688 - val_mae: 65981.9688\n",
      "Epoch 19/500\n",
      "20/20 [==============================] - 0s 14ms/step - loss: 26138.4316 - mae: 26138.9297 - val_loss: 65172.1836 - val_mae: 65172.6875\n",
      "Epoch 20/500\n",
      "20/20 [==============================] - 0s 13ms/step - loss: 26626.8262 - mae: 26627.3262 - val_loss: 65878.0156 - val_mae: 65878.5234\n",
      "Epoch 21/500\n",
      "20/20 [==============================] - 0s 14ms/step - loss: 25504.8027 - mae: 25505.2969 - val_loss: 65130.8789 - val_mae: 65131.3750\n",
      "Epoch 22/500\n",
      "20/20 [==============================] - 0s 12ms/step - loss: 25602.5664 - mae: 25603.0664 - val_loss: 62501.5664 - val_mae: 62502.0664\n",
      "Epoch 23/500\n",
      "20/20 [==============================] - 0s 11ms/step - loss: 27054.5527 - mae: 27055.0527 - val_loss: 65273.6875 - val_mae: 65274.1914\n",
      "Epoch 24/500\n",
      "20/20 [==============================] - 0s 11ms/step - loss: 26712.1289 - mae: 26712.6270 - val_loss: 68108.7266 - val_mae: 68109.2266\n",
      "Epoch 25/500\n",
      "20/20 [==============================] - 0s 11ms/step - loss: 26392.2363 - mae: 26392.7363 - val_loss: 67019.8594 - val_mae: 67020.3516\n",
      "Epoch 26/500\n",
      "20/20 [==============================] - 0s 11ms/step - loss: 26380.6035 - mae: 26381.1035 - val_loss: 66791.3828 - val_mae: 66791.8828\n",
      "Epoch 27/500\n",
      "20/20 [==============================] - 0s 11ms/step - loss: 25949.7207 - mae: 25950.2188 - val_loss: 65474.9570 - val_mae: 65475.4570\n",
      "Epoch 28/500\n",
      "20/20 [==============================] - 0s 11ms/step - loss: 26394.4922 - mae: 26394.9922 - val_loss: 64767.8359 - val_mae: 64768.3320\n",
      "Epoch 29/500\n",
      "20/20 [==============================] - 0s 13ms/step - loss: 25821.5840 - mae: 25822.0859 - val_loss: 64467.8203 - val_mae: 64468.3281\n",
      "Epoch 30/500\n",
      "20/20 [==============================] - 0s 11ms/step - loss: 26400.2930 - mae: 26400.7930 - val_loss: 65382.1016 - val_mae: 65382.5977\n",
      "Epoch 31/500\n",
      "20/20 [==============================] - 0s 11ms/step - loss: 26535.1777 - mae: 26535.6797 - val_loss: 67608.7109 - val_mae: 67609.2109\n",
      "Epoch 32/500\n",
      "20/20 [==============================] - 0s 11ms/step - loss: 26733.5820 - mae: 26734.0801 - val_loss: 67234.2578 - val_mae: 67234.7578\n",
      "Epoch 33/500\n",
      "20/20 [==============================] - 0s 11ms/step - loss: 26035.9883 - mae: 26036.4883 - val_loss: 64947.8516 - val_mae: 64948.3555\n",
      "Epoch 34/500\n",
      "20/20 [==============================] - 0s 11ms/step - loss: 27083.8438 - mae: 27084.3398 - val_loss: 64662.2422 - val_mae: 64662.7461\n",
      "Epoch 35/500\n",
      "20/20 [==============================] - 0s 11ms/step - loss: 26516.3652 - mae: 26516.8652 - val_loss: 66393.1875 - val_mae: 66393.6797\n",
      "Epoch 36/500\n",
      "20/20 [==============================] - 0s 13ms/step - loss: 26802.5352 - mae: 26803.0371 - val_loss: 66435.0781 - val_mae: 66435.5703\n",
      "Epoch 37/500\n",
      "20/20 [==============================] - 0s 11ms/step - loss: 26010.9922 - mae: 26011.4902 - val_loss: 66687.7344 - val_mae: 66688.2266\n",
      "Epoch 38/500\n",
      "20/20 [==============================] - 0s 11ms/step - loss: 25979.3242 - mae: 25979.8262 - val_loss: 67084.1562 - val_mae: 67084.6562\n",
      "Epoch 39/500\n",
      "20/20 [==============================] - 0s 11ms/step - loss: 26004.3105 - mae: 26004.8125 - val_loss: 66259.8125 - val_mae: 66260.3125\n",
      "Epoch 40/500\n",
      "20/20 [==============================] - 0s 12ms/step - loss: 26691.4258 - mae: 26691.9258 - val_loss: 67128.8906 - val_mae: 67129.3906\n",
      "Epoch 41/500\n",
      "20/20 [==============================] - 0s 11ms/step - loss: 25841.0742 - mae: 25841.5703 - val_loss: 65816.6250 - val_mae: 65817.1250\n",
      "Epoch 42/500\n",
      "20/20 [==============================] - 0s 11ms/step - loss: 26398.7090 - mae: 26399.2090 - val_loss: 64542.3320 - val_mae: 64542.8320\n",
      "Epoch 43/500\n",
      "20/20 [==============================] - 0s 11ms/step - loss: 26561.1836 - mae: 26561.6797 - val_loss: 66304.5156 - val_mae: 66305.0156\n",
      "Epoch 44/500\n",
      "20/20 [==============================] - 0s 12ms/step - loss: 26862.7109 - mae: 26863.2109 - val_loss: 68690.8281 - val_mae: 68691.3203\n",
      "Epoch 45/500\n",
      "20/20 [==============================] - 0s 13ms/step - loss: 26868.8477 - mae: 26869.3438 - val_loss: 66666.4375 - val_mae: 66666.9375\n",
      "Epoch 46/500\n",
      "20/20 [==============================] - 0s 11ms/step - loss: 27270.1641 - mae: 27270.6660 - val_loss: 68427.5703 - val_mae: 68428.0781\n",
      "Epoch 47/500\n",
      "20/20 [==============================] - 0s 11ms/step - loss: 27235.4512 - mae: 27235.9512 - val_loss: 69234.0859 - val_mae: 69234.5859\n",
      "Epoch 48/500\n",
      "20/20 [==============================] - 0s 10ms/step - loss: 27063.2441 - mae: 27063.7461 - val_loss: 69747.1406 - val_mae: 69747.6406\n",
      "Epoch 49/500\n",
      "20/20 [==============================] - 0s 10ms/step - loss: 27432.2852 - mae: 27432.7871 - val_loss: 67377.8516 - val_mae: 67378.3516\n",
      "Epoch 50/500\n",
      "20/20 [==============================] - 0s 10ms/step - loss: 27747.5488 - mae: 27748.0488 - val_loss: 68341.0156 - val_mae: 68341.5234\n",
      "Epoch 51/500\n",
      "20/20 [==============================] - 0s 10ms/step - loss: 26843.4023 - mae: 26843.9062 - val_loss: 69273.0234 - val_mae: 69273.5234\n",
      "Epoch 52/500\n",
      "20/20 [==============================] - 0s 12ms/step - loss: 26381.0938 - mae: 26381.5918 - val_loss: 68945.9844 - val_mae: 68946.4766\n",
      "Epoch 53/500\n",
      "20/20 [==============================] - 0s 10ms/step - loss: 26724.8809 - mae: 26725.3828 - val_loss: 70002.8828 - val_mae: 70003.3828\n",
      "Epoch 54/500\n",
      "20/20 [==============================] - 0s 11ms/step - loss: 26053.9062 - mae: 26054.4062 - val_loss: 69584.9297 - val_mae: 69585.4297\n",
      "Epoch 55/500\n",
      "20/20 [==============================] - 0s 13ms/step - loss: 26189.9707 - mae: 26190.4727 - val_loss: 69839.5625 - val_mae: 69840.0547\n",
      "Epoch 56/500\n",
      "20/20 [==============================] - 0s 11ms/step - loss: 26084.0547 - mae: 26084.5586 - val_loss: 69501.8125 - val_mae: 69502.3125\n",
      "Epoch 57/500\n",
      "20/20 [==============================] - 0s 11ms/step - loss: 26532.4609 - mae: 26532.9570 - val_loss: 68427.5391 - val_mae: 68428.0391\n",
      "Epoch 58/500\n",
      "20/20 [==============================] - 0s 11ms/step - loss: 26693.1641 - mae: 26693.6621 - val_loss: 69467.8906 - val_mae: 69468.3906\n",
      "Epoch 59/500\n",
      "20/20 [==============================] - 0s 10ms/step - loss: 26163.9180 - mae: 26164.4160 - val_loss: 69665.8438 - val_mae: 69666.3516\n",
      "Epoch 60/500\n",
      "20/20 [==============================] - 0s 11ms/step - loss: 26138.4473 - mae: 26138.9453 - val_loss: 70217.9453 - val_mae: 70218.4531\n",
      "Epoch 61/500\n",
      "20/20 [==============================] - 0s 10ms/step - loss: 26063.3672 - mae: 26063.8652 - val_loss: 68202.4062 - val_mae: 68202.9141\n",
      "Epoch 62/500\n",
      "20/20 [==============================] - 0s 13ms/step - loss: 27213.8672 - mae: 27214.3672 - val_loss: 68314.0547 - val_mae: 68314.5547\n",
      "Epoch 63/500\n",
      "20/20 [==============================] - 0s 13ms/step - loss: 27298.4180 - mae: 27298.9160 - val_loss: 67964.3984 - val_mae: 67964.8984\n",
      "Epoch 64/500\n",
      "20/20 [==============================] - 0s 13ms/step - loss: 26872.6270 - mae: 26873.1250 - val_loss: 70083.4766 - val_mae: 70083.9766\n",
      "Epoch 65/500\n",
      "20/20 [==============================] - 0s 10ms/step - loss: 26070.9238 - mae: 26071.4238 - val_loss: 69999.8828 - val_mae: 70000.3906\n",
      "Epoch 66/500\n",
      "20/20 [==============================] - 0s 10ms/step - loss: 26582.2910 - mae: 26582.7891 - val_loss: 69876.3047 - val_mae: 69876.8047\n",
      "Epoch 67/500\n",
      "20/20 [==============================] - 0s 10ms/step - loss: 26053.0234 - mae: 26053.5254 - val_loss: 69776.7266 - val_mae: 69777.2266\n",
      "Epoch 68/500\n",
      "20/20 [==============================] - 0s 11ms/step - loss: 26575.5254 - mae: 26576.0234 - val_loss: 68649.8984 - val_mae: 68650.3984\n",
      "Epoch 69/500\n",
      "20/20 [==============================] - 0s 10ms/step - loss: 26813.6328 - mae: 26814.1309 - val_loss: 69630.5312 - val_mae: 69631.0312\n",
      "Epoch 70/500\n",
      "20/20 [==============================] - 0s 11ms/step - loss: 26375.9141 - mae: 26376.4160 - val_loss: 69605.0391 - val_mae: 69605.5391\n",
      "Epoch 71/500\n",
      "20/20 [==============================] - 0s 12ms/step - loss: 26321.3496 - mae: 26321.8477 - val_loss: 68950.7734 - val_mae: 68951.2734\n",
      "Epoch 72/500\n",
      "20/20 [==============================] - 0s 14ms/step - loss: 26378.4355 - mae: 26378.9375 - val_loss: 70367.3516 - val_mae: 70367.8516\n"
     ]
    },
    {
     "data": {
      "text/plain": "<keras.callbacks.History at 0x1f3d73cef20>"
     },
     "execution_count": 21,
     "metadata": {},
     "output_type": "execute_result"
    }
   ],
   "source": [
    "keras.backend.clear_session()\n",
    "tf.random.set_seed(42)\n",
    "np.random.seed(42)\n",
    "\n",
    "window_size = 30\n",
    "train_set = seq2seq_window_dataset(x_train, window_size,\n",
    "                                   batch_size=128)\n",
    "valid_set = seq2seq_window_dataset(x_valid, window_size,\n",
    "                                   batch_size=128)\n",
    "\n",
    "model = keras.models.Sequential([\n",
    "    keras.layers.Conv1D(filters=32, kernel_size=5,\n",
    "                        strides=1, padding=\"causal\",\n",
    "                        activation=\"relu\",\n",
    "                        input_shape=[None, 1]),\n",
    "    keras.layers.LSTM(32, return_sequences=True),\n",
    "    keras.layers.LSTM(32, return_sequences=True),\n",
    "    keras.layers.Dense(1),\n",
    "    keras.layers.Lambda(lambda x: x * 100000)\n",
    "])\n",
    "optimizer = keras.optimizers.SGD(lr=1e-6, momentum=0.9)\n",
    "model.compile(loss=keras.losses.Huber(),\n",
    "              optimizer=optimizer,\n",
    "              metrics=[\"mae\"])\n",
    "\n",
    "model_checkpoint = keras.callbacks.ModelCheckpoint(\n",
    "    \"my_checkpoint.h5\", save_best_only=True)\n",
    "early_stopping = keras.callbacks.EarlyStopping(patience=50)\n",
    "model.fit(train_set, epochs=500,\n",
    "          validation_data=valid_set,\n",
    "          callbacks=[early_stopping, model_checkpoint])"
   ],
   "metadata": {
    "collapsed": false
   }
  },
  {
   "cell_type": "code",
   "execution_count": 80,
   "outputs": [
    {
     "data": {
      "text/plain": "[<matplotlib.lines.Line2D at 0x1b47132aef0>]"
     },
     "execution_count": 80,
     "metadata": {},
     "output_type": "execute_result"
    },
    {
     "data": {
      "text/plain": "<Figure size 640x480 with 1 Axes>",
      "image/png": "[encoded data removed]"
     },
     "metadata": {},
     "output_type": "display_data"
    }
   ],
   "source": [
    "plt.plot(history.history['mae'])\n",
    "plt.plot(history.history['val_mae'])"
   ],
   "metadata": {
    "collapsed": false
   }
  },
  {
   "cell_type": "code",
   "execution_count": 14,
   "outputs": [
    {
     "name": "stdout",
     "output_type": "stream",
     "text": [
      "Epoch 1/100\n"
     ]
    },
    {
     "name": "stderr",
     "output_type": "stream",
     "text": [
      "C:\\Users\\sebas\\anaconda3\\envs\\tensorflow_1\\lib\\site-packages\\keras\\optimizers\\optimizer_v2\\gradient_descent.py:111: UserWarning: The `lr` argument is deprecated, use `learning_rate` instead.\n",
      "  super().__init__(name, **kwargs)\n"
     ]
    },
    {
     "name": "stdout",
     "output_type": "stream",
     "text": [
      "20/20 [==============================] - 3s 80ms/step - loss: 26548.1211 - mae: 26548.6191 - lr: 1.0000e-07\n",
      "Epoch 2/100\n",
      "20/20 [==============================] - 2s 71ms/step - loss: 26542.3965 - mae: 26542.8965 - lr: 1.1220e-07\n",
      "Epoch 3/100\n",
      "20/20 [==============================] - 2s 72ms/step - loss: 26535.3594 - mae: 26535.8574 - lr: 1.2589e-07\n",
      "Epoch 4/100\n",
      "20/20 [==============================] - 2s 72ms/step - loss: 26527.5312 - mae: 26528.0293 - lr: 1.4125e-07\n",
      "Epoch 5/100\n",
      "20/20 [==============================] - 2s 73ms/step - loss: 26519.0781 - mae: 26519.5781 - lr: 1.5849e-07\n",
      "Epoch 6/100\n",
      "20/20 [==============================] - 2s 72ms/step - loss: 26510.0273 - mae: 26510.5195 - lr: 1.7783e-07\n",
      "Epoch 7/100\n",
      "20/20 [==============================] - 1s 70ms/step - loss: 26502.1621 - mae: 26502.6543 - lr: 1.9953e-07\n",
      "Epoch 8/100\n",
      "20/20 [==============================] - 1s 67ms/step - loss: 26495.8516 - mae: 26496.3398 - lr: 2.2387e-07\n",
      "Epoch 9/100\n",
      "20/20 [==============================] - 1s 66ms/step - loss: 26489.8164 - mae: 26490.3047 - lr: 2.5119e-07\n",
      "Epoch 10/100\n",
      "20/20 [==============================] - 1s 72ms/step - loss: 26483.4805 - mae: 26483.9707 - lr: 2.8184e-07\n",
      "Epoch 11/100\n",
      "20/20 [==============================] - 2s 76ms/step - loss: 26475.9219 - mae: 26476.4141 - lr: 3.1623e-07\n",
      "Epoch 12/100\n",
      "20/20 [==============================] - 2s 72ms/step - loss: 26470.7520 - mae: 26471.2480 - lr: 3.5481e-07\n",
      "Epoch 13/100\n",
      "20/20 [==============================] - 1s 71ms/step - loss: 26462.9414 - mae: 26463.4395 - lr: 3.9811e-07\n",
      "Epoch 14/100\n",
      "20/20 [==============================] - 1s 67ms/step - loss: 26455.1211 - mae: 26455.6191 - lr: 4.4668e-07\n",
      "Epoch 15/100\n",
      "20/20 [==============================] - 1s 70ms/step - loss: 26446.6641 - mae: 26447.1543 - lr: 5.0119e-07\n",
      "Epoch 16/100\n",
      "20/20 [==============================] - 1s 66ms/step - loss: 26438.3262 - mae: 26438.8184 - lr: 5.6234e-07\n",
      "Epoch 17/100\n",
      "20/20 [==============================] - 1s 70ms/step - loss: 26429.5605 - mae: 26430.0566 - lr: 6.3096e-07\n",
      "Epoch 18/100\n",
      "20/20 [==============================] - 1s 70ms/step - loss: 26420.2539 - mae: 26420.7480 - lr: 7.0795e-07\n",
      "Epoch 19/100\n",
      "20/20 [==============================] - 1s 67ms/step - loss: 26410.2246 - mae: 26410.7168 - lr: 7.9433e-07\n",
      "Epoch 20/100\n",
      "20/20 [==============================] - 1s 65ms/step - loss: 26399.4590 - mae: 26399.9551 - lr: 8.9125e-07\n",
      "Epoch 21/100\n",
      "20/20 [==============================] - 1s 63ms/step - loss: 26387.9883 - mae: 26388.4863 - lr: 1.0000e-06\n",
      "Epoch 22/100\n",
      "20/20 [==============================] - 1s 66ms/step - loss: 26375.6367 - mae: 26376.1309 - lr: 1.1220e-06\n",
      "Epoch 23/100\n",
      "20/20 [==============================] - 1s 70ms/step - loss: 26361.5938 - mae: 26362.0879 - lr: 1.2589e-06\n",
      "Epoch 24/100\n",
      "20/20 [==============================] - 1s 71ms/step - loss: 26348.0195 - mae: 26348.5117 - lr: 1.4125e-06\n",
      "Epoch 25/100\n",
      "20/20 [==============================] - 1s 71ms/step - loss: 26331.9551 - mae: 26332.4512 - lr: 1.5849e-06\n",
      "Epoch 26/100\n",
      "20/20 [==============================] - 1s 72ms/step - loss: 26315.5957 - mae: 26316.0898 - lr: 1.7783e-06\n",
      "Epoch 27/100\n",
      "20/20 [==============================] - 1s 69ms/step - loss: 26297.4004 - mae: 26297.8984 - lr: 1.9953e-06\n",
      "Epoch 28/100\n",
      "20/20 [==============================] - 1s 71ms/step - loss: 26277.9453 - mae: 26278.4395 - lr: 2.2387e-06\n",
      "Epoch 29/100\n",
      "20/20 [==============================] - 1s 67ms/step - loss: 26255.2617 - mae: 26255.7617 - lr: 2.5119e-06\n",
      "Epoch 30/100\n",
      "20/20 [==============================] - 1s 71ms/step - loss: 26231.7441 - mae: 26232.2441 - lr: 2.8184e-06\n",
      "Epoch 31/100\n",
      "20/20 [==============================] - 1s 71ms/step - loss: 26207.9160 - mae: 26208.4121 - lr: 3.1623e-06\n",
      "Epoch 32/100\n",
      "20/20 [==============================] - 2s 72ms/step - loss: 26180.9121 - mae: 26181.4121 - lr: 3.5481e-06\n",
      "Epoch 33/100\n",
      "20/20 [==============================] - 1s 67ms/step - loss: 26146.2598 - mae: 26146.7598 - lr: 3.9811e-06\n",
      "Epoch 34/100\n",
      "20/20 [==============================] - 1s 64ms/step - loss: 26115.1191 - mae: 26115.6191 - lr: 4.4668e-06\n",
      "Epoch 35/100\n",
      "20/20 [==============================] - 1s 67ms/step - loss: 26075.7070 - mae: 26076.2051 - lr: 5.0119e-06\n",
      "Epoch 36/100\n",
      "20/20 [==============================] - 1s 72ms/step - loss: 26040.5000 - mae: 26041.0000 - lr: 5.6234e-06\n",
      "Epoch 37/100\n",
      "20/20 [==============================] - 1s 70ms/step - loss: 26003.1074 - mae: 26003.6074 - lr: 6.3096e-06\n",
      "Epoch 38/100\n",
      "20/20 [==============================] - 1s 70ms/step - loss: 25957.6406 - mae: 25958.1387 - lr: 7.0795e-06\n",
      "Epoch 39/100\n",
      "20/20 [==============================] - 2s 73ms/step - loss: 25898.8789 - mae: 25899.3750 - lr: 7.9433e-06\n",
      "Epoch 40/100\n",
      "20/20 [==============================] - 1s 69ms/step - loss: 25813.4355 - mae: 25813.9336 - lr: 8.9125e-06\n",
      "Epoch 41/100\n",
      "20/20 [==============================] - 1s 70ms/step - loss: 25712.1465 - mae: 25712.6465 - lr: 1.0000e-05\n",
      "Epoch 42/100\n",
      "20/20 [==============================] - 1s 71ms/step - loss: 25567.1426 - mae: 25567.6426 - lr: 1.1220e-05\n",
      "Epoch 43/100\n",
      "20/20 [==============================] - 1s 70ms/step - loss: 25447.1250 - mae: 25447.6250 - lr: 1.2589e-05\n",
      "Epoch 44/100\n",
      "20/20 [==============================] - 1s 72ms/step - loss: 25392.7207 - mae: 25393.2207 - lr: 1.4125e-05\n",
      "Epoch 45/100\n",
      "20/20 [==============================] - 1s 65ms/step - loss: 26481.6328 - mae: 26482.1328 - lr: 1.5849e-05\n",
      "Epoch 46/100\n",
      "20/20 [==============================] - 1s 69ms/step - loss: 26203.1445 - mae: 26203.6445 - lr: 1.7783e-05\n",
      "Epoch 47/100\n",
      "20/20 [==============================] - 1s 68ms/step - loss: 26078.3789 - mae: 26078.8789 - lr: 1.9953e-05\n",
      "Epoch 48/100\n",
      "20/20 [==============================] - 1s 68ms/step - loss: 25968.1465 - mae: 25968.6445 - lr: 2.2387e-05\n",
      "Epoch 49/100\n",
      "20/20 [==============================] - 1s 70ms/step - loss: 25894.8809 - mae: 25895.3809 - lr: 2.5119e-05\n",
      "Epoch 50/100\n",
      "20/20 [==============================] - 1s 72ms/step - loss: 25833.9199 - mae: 25834.4199 - lr: 2.8184e-05\n",
      "Epoch 51/100\n",
      "20/20 [==============================] - 1s 72ms/step - loss: 25689.1934 - mae: 25689.6914 - lr: 3.1623e-05\n",
      "Epoch 52/100\n",
      "20/20 [==============================] - 1s 71ms/step - loss: 25544.2188 - mae: 25544.7188 - lr: 3.5481e-05\n",
      "Epoch 53/100\n",
      "20/20 [==============================] - 1s 71ms/step - loss: 25434.6914 - mae: 25435.1914 - lr: 3.9811e-05\n",
      "Epoch 54/100\n",
      "20/20 [==============================] - 1s 71ms/step - loss: 25200.5000 - mae: 25201.0000 - lr: 4.4668e-05\n",
      "Epoch 55/100\n",
      "20/20 [==============================] - 1s 72ms/step - loss: 25076.3887 - mae: 25076.8887 - lr: 5.0119e-05\n",
      "Epoch 56/100\n",
      "20/20 [==============================] - 2s 73ms/step - loss: 26073.5840 - mae: 26074.0820 - lr: 5.6234e-05\n",
      "Epoch 57/100\n",
      "20/20 [==============================] - 1s 70ms/step - loss: 25951.7363 - mae: 25952.2363 - lr: 6.3096e-05\n",
      "Epoch 58/100\n",
      "20/20 [==============================] - 1s 71ms/step - loss: 25924.5156 - mae: 25925.0156 - lr: 7.0795e-05\n",
      "Epoch 59/100\n",
      "20/20 [==============================] - 1s 69ms/step - loss: 25800.3691 - mae: 25800.8691 - lr: 7.9433e-05\n",
      "Epoch 60/100\n",
      "20/20 [==============================] - 1s 66ms/step - loss: 25853.9062 - mae: 25854.4062 - lr: 8.9125e-05\n",
      "Epoch 61/100\n",
      "20/20 [==============================] - 2s 76ms/step - loss: 25812.8184 - mae: 25813.3184 - lr: 1.0000e-04\n",
      "Epoch 62/100\n",
      "20/20 [==============================] - 1s 70ms/step - loss: 25764.0879 - mae: 25764.5879 - lr: 1.1220e-04\n",
      "Epoch 63/100\n",
      "20/20 [==============================] - 1s 68ms/step - loss: 25704.7891 - mae: 25705.2910 - lr: 1.2589e-04\n",
      "Epoch 64/100\n",
      "20/20 [==============================] - 1s 70ms/step - loss: 25650.9922 - mae: 25651.4902 - lr: 1.4125e-04\n",
      "Epoch 65/100\n",
      "20/20 [==============================] - 1s 68ms/step - loss: 25610.3672 - mae: 25610.8672 - lr: 1.5849e-04\n",
      "Epoch 66/100\n",
      "20/20 [==============================] - 1s 67ms/step - loss: 25551.9473 - mae: 25552.4473 - lr: 1.7783e-04\n",
      "Epoch 67/100\n",
      "20/20 [==============================] - 1s 66ms/step - loss: 25576.1348 - mae: 25576.6348 - lr: 1.9953e-04\n",
      "Epoch 68/100\n",
      "20/20 [==============================] - 1s 70ms/step - loss: 25529.4375 - mae: 25529.9375 - lr: 2.2387e-04\n",
      "Epoch 69/100\n",
      "20/20 [==============================] - 1s 67ms/step - loss: 25581.0684 - mae: 25581.5684 - lr: 2.5119e-04\n",
      "Epoch 70/100\n",
      "20/20 [==============================] - 1s 69ms/step - loss: 25567.0547 - mae: 25567.5547 - lr: 2.8184e-04\n",
      "Epoch 71/100\n",
      "20/20 [==============================] - 1s 72ms/step - loss: 25469.6289 - mae: 25470.1289 - lr: 3.1623e-04\n",
      "Epoch 72/100\n",
      "20/20 [==============================] - 2s 72ms/step - loss: 25588.0371 - mae: 25588.5371 - lr: 3.5481e-04\n",
      "Epoch 73/100\n",
      "20/20 [==============================] - 1s 71ms/step - loss: 25435.1113 - mae: 25435.6113 - lr: 3.9811e-04\n",
      "Epoch 74/100\n",
      "20/20 [==============================] - 2s 78ms/step - loss: 25624.1133 - mae: 25624.6133 - lr: 4.4668e-04\n",
      "Epoch 75/100\n",
      "20/20 [==============================] - 1s 67ms/step - loss: 25460.1348 - mae: 25460.6348 - lr: 5.0119e-04\n",
      "Epoch 76/100\n",
      "20/20 [==============================] - 2s 77ms/step - loss: 25602.4277 - mae: 25602.9277 - lr: 5.6234e-04\n",
      "Epoch 77/100\n",
      "20/20 [==============================] - 1s 64ms/step - loss: 26442.0078 - mae: 26442.5078 - lr: 6.3096e-04\n",
      "Epoch 78/100\n",
      "20/20 [==============================] - 1s 67ms/step - loss: 26821.7656 - mae: 26822.2656 - lr: 7.0795e-04\n",
      "Epoch 79/100\n",
      "20/20 [==============================] - 1s 67ms/step - loss: 26070.5508 - mae: 26071.0508 - lr: 7.9433e-04\n",
      "Epoch 80/100\n",
      "20/20 [==============================] - 1s 71ms/step - loss: 26130.8574 - mae: 26131.3574 - lr: 8.9125e-04\n",
      "Epoch 81/100\n",
      "20/20 [==============================] - 1s 71ms/step - loss: 26440.1191 - mae: 26440.6191 - lr: 0.0010\n",
      "Epoch 82/100\n",
      "20/20 [==============================] - 1s 70ms/step - loss: 26376.8809 - mae: 26377.3828 - lr: 0.0011\n",
      "Epoch 83/100\n",
      "20/20 [==============================] - 1s 69ms/step - loss: 26216.8809 - mae: 26217.3828 - lr: 0.0013\n",
      "Epoch 84/100\n",
      "20/20 [==============================] - 1s 69ms/step - loss: 26588.3906 - mae: 26588.8906 - lr: 0.0014\n",
      "Epoch 85/100\n",
      "20/20 [==============================] - 1s 68ms/step - loss: 26318.6504 - mae: 26319.1504 - lr: 0.0016\n",
      "Epoch 86/100\n",
      "20/20 [==============================] - 1s 72ms/step - loss: 25787.8848 - mae: 25788.3848 - lr: 0.0018\n",
      "Epoch 87/100\n",
      "20/20 [==============================] - 1s 69ms/step - loss: 26711.4609 - mae: 26711.9629 - lr: 0.0020\n",
      "Epoch 88/100\n",
      "20/20 [==============================] - 1s 68ms/step - loss: 27618.4766 - mae: 27618.9766 - lr: 0.0022\n",
      "Epoch 89/100\n",
      "20/20 [==============================] - 1s 70ms/step - loss: 28398.8164 - mae: 28399.3125 - lr: 0.0025\n",
      "Epoch 90/100\n",
      "20/20 [==============================] - 1s 71ms/step - loss: 28015.6992 - mae: 28016.1992 - lr: 0.0028\n",
      "Epoch 91/100\n",
      "20/20 [==============================] - 1s 66ms/step - loss: 28530.0234 - mae: 28530.5234 - lr: 0.0032\n",
      "Epoch 92/100\n",
      "20/20 [==============================] - 1s 66ms/step - loss: 27864.8867 - mae: 27865.3867 - lr: 0.0035\n",
      "Epoch 93/100\n",
      "20/20 [==============================] - 1s 66ms/step - loss: 29142.7344 - mae: 29143.2344 - lr: 0.0040\n",
      "Epoch 94/100\n",
      "20/20 [==============================] - 1s 67ms/step - loss: 30501.9199 - mae: 30502.4199 - lr: 0.0045\n",
      "Epoch 95/100\n",
      "20/20 [==============================] - 1s 66ms/step - loss: 29558.6191 - mae: 29559.1191 - lr: 0.0050\n",
      "Epoch 96/100\n",
      "20/20 [==============================] - 1s 67ms/step - loss: 29234.4219 - mae: 29234.9219 - lr: 0.0056\n",
      "Epoch 97/100\n",
      "20/20 [==============================] - 1s 68ms/step - loss: 28806.1035 - mae: 28806.6035 - lr: 0.0063\n",
      "Epoch 98/100\n",
      "20/20 [==============================] - 1s 68ms/step - loss: 30323.1504 - mae: 30323.6504 - lr: 0.0071\n",
      "Epoch 99/100\n",
      "20/20 [==============================] - 1s 67ms/step - loss: 32133.9453 - mae: 32134.4453 - lr: 0.0079\n",
      "Epoch 100/100\n",
      "20/20 [==============================] - 1s 66ms/step - loss: 34900.7188 - mae: 34901.2188 - lr: 0.0089\n"
     ]
    }
   ],
   "source": [
    "keras.backend.clear_session()\n",
    "tf.random.set_seed(42)\n",
    "np.random.seed(42)\n",
    "\n",
    "window_size = 30\n",
    "train_set = seq2seq_window_dataset(x_train, window_size,\n",
    "                                   batch_size=128)\n",
    "valid_set = seq2seq_window_dataset(x_valid, window_size,\n",
    "                                   batch_size=128)\n",
    "\n",
    "model = keras.models.Sequential([\n",
    "    keras.layers.Conv1D(filters=32, kernel_size=5,\n",
    "                        strides=1, padding=\"causal\",\n",
    "                        activation=\"relu\",\n",
    "                        input_shape=[None, 1]),\n",
    "    keras.layers.LSTM(32, return_sequences=True),\n",
    "    keras.layers.LSTM(32, return_sequences=True),\n",
    "    keras.layers.Dense(1),\n",
    "    keras.layers.Lambda(lambda x: x * 250000)\n",
    "])\n",
    "optimizer = keras.optimizers.SGD(lr=1e-5, momentum=0.9)\n",
    "model.compile(loss=keras.losses.Huber(),\n",
    "              optimizer=optimizer,\n",
    "              metrics=[\"mae\"])\n",
    "\n",
    "model_checkpoint = keras.callbacks.ModelCheckpoint(\n",
    "    \"my_checkpoint.h5\", save_best_only=True)\n",
    "early_stopping = keras.callbacks.EarlyStopping(patience=50)\n",
    "model.fit(train_set, epochs=500,\n",
    "          validation_data=valid_set,\n",
    "          callbacks=[early_stopping, model_checkpoint])"
   ],
   "metadata": {
    "collapsed": false
   }
  },
  {
   "cell_type": "code",
   "execution_count": 16,
   "outputs": [
    {
     "data": {
      "text/plain": "[<matplotlib.lines.Line2D at 0x1ba5f7eead0>]"
     },
     "execution_count": 16,
     "metadata": {},
     "output_type": "execute_result"
    },
    {
     "data": {
      "text/plain": "<Figure size 640x480 with 1 Axes>",
      "image/png": "[encoded data removed]"
     },
     "metadata": {},
     "output_type": "display_data"
    }
   ],
   "source": [
    "plt.semilogx(history.history[\"lr\"], history.history[\"loss\"])\n",
    "#plt.axis([1e-7, 1e-4, 0, 30])"
   ],
   "metadata": {
    "collapsed": false
   }
  },
  {
   "cell_type": "code",
   "execution_count": 26,
   "outputs": [
    {
     "name": "stdout",
     "output_type": "stream",
     "text": [
      "Epoch 1/100\n"
     ]
    },
    {
     "ename": "InvalidArgumentError",
     "evalue": "Graph execution error:\n\nInvalid input_h shape: [1,1,100] [1,32,100]\n\t [[{{node CudnnRNN}}]]\n\t [[sequential/lstm/PartitionedCall]] [Op:__inference_train_function_274668]",
     "output_type": "error",
     "traceback": [
      "\u001B[1;31m---------------------------------------------------------------------------\u001B[0m",
      "\u001B[1;31mInvalidArgumentError\u001B[0m                      Traceback (most recent call last)",
      "Cell \u001B[1;32mIn [26], line 21\u001B[0m\n\u001B[0;32m     17\u001B[0m optimizer \u001B[38;5;241m=\u001B[39m keras\u001B[38;5;241m.\u001B[39moptimizers\u001B[38;5;241m.\u001B[39mSGD(lr\u001B[38;5;241m=\u001B[39m\u001B[38;5;241m1e-8\u001B[39m, momentum\u001B[38;5;241m=\u001B[39m\u001B[38;5;241m0.9\u001B[39m)\n\u001B[0;32m     18\u001B[0m model\u001B[38;5;241m.\u001B[39mcompile(loss\u001B[38;5;241m=\u001B[39mkeras\u001B[38;5;241m.\u001B[39mlosses\u001B[38;5;241m.\u001B[39mHuber(),\n\u001B[0;32m     19\u001B[0m               optimizer\u001B[38;5;241m=\u001B[39moptimizer,\n\u001B[0;32m     20\u001B[0m               metrics\u001B[38;5;241m=\u001B[39m[\u001B[38;5;124m\"\u001B[39m\u001B[38;5;124mmae\u001B[39m\u001B[38;5;124m\"\u001B[39m])\n\u001B[1;32m---> 21\u001B[0m history \u001B[38;5;241m=\u001B[39m \u001B[43mmodel\u001B[49m\u001B[38;5;241;43m.\u001B[39;49m\u001B[43mfit\u001B[49m\u001B[43m(\u001B[49m\u001B[43mtrain_set\u001B[49m\u001B[43m,\u001B[49m\u001B[43m \u001B[49m\u001B[43mepochs\u001B[49m\u001B[38;5;241;43m=\u001B[39;49m\u001B[38;5;241;43m100\u001B[39;49m\u001B[43m,\u001B[49m\n\u001B[0;32m     22\u001B[0m \u001B[43m                    \u001B[49m\u001B[43mcallbacks\u001B[49m\u001B[38;5;241;43m=\u001B[39;49m\u001B[43m[\u001B[49m\u001B[43mlr_schedule\u001B[49m\u001B[43m]\u001B[49m\u001B[43m)\u001B[49m\n",
      "File \u001B[1;32m~\\anaconda3\\envs\\tensorflow_1\\lib\\site-packages\\keras\\utils\\traceback_utils.py:70\u001B[0m, in \u001B[0;36mfilter_traceback.<locals>.error_handler\u001B[1;34m(*args, **kwargs)\u001B[0m\n\u001B[0;32m     67\u001B[0m     filtered_tb \u001B[38;5;241m=\u001B[39m _process_traceback_frames(e\u001B[38;5;241m.\u001B[39m__traceback__)\n\u001B[0;32m     68\u001B[0m     \u001B[38;5;66;03m# To get the full stack trace, call:\u001B[39;00m\n\u001B[0;32m     69\u001B[0m     \u001B[38;5;66;03m# `tf.debugging.disable_traceback_filtering()`\u001B[39;00m\n\u001B[1;32m---> 70\u001B[0m     \u001B[38;5;28;01mraise\u001B[39;00m e\u001B[38;5;241m.\u001B[39mwith_traceback(filtered_tb) \u001B[38;5;28;01mfrom\u001B[39;00m \u001B[38;5;28mNone\u001B[39m\n\u001B[0;32m     71\u001B[0m \u001B[38;5;28;01mfinally\u001B[39;00m:\n\u001B[0;32m     72\u001B[0m     \u001B[38;5;28;01mdel\u001B[39;00m filtered_tb\n",
      "File \u001B[1;32m~\\anaconda3\\envs\\tensorflow_1\\lib\\site-packages\\tensorflow\\python\\eager\\execute.py:54\u001B[0m, in \u001B[0;36mquick_execute\u001B[1;34m(op_name, num_outputs, inputs, attrs, ctx, name)\u001B[0m\n\u001B[0;32m     52\u001B[0m \u001B[38;5;28;01mtry\u001B[39;00m:\n\u001B[0;32m     53\u001B[0m   ctx\u001B[38;5;241m.\u001B[39mensure_initialized()\n\u001B[1;32m---> 54\u001B[0m   tensors \u001B[38;5;241m=\u001B[39m pywrap_tfe\u001B[38;5;241m.\u001B[39mTFE_Py_Execute(ctx\u001B[38;5;241m.\u001B[39m_handle, device_name, op_name,\n\u001B[0;32m     55\u001B[0m                                       inputs, attrs, num_outputs)\n\u001B[0;32m     56\u001B[0m \u001B[38;5;28;01mexcept\u001B[39;00m core\u001B[38;5;241m.\u001B[39m_NotOkStatusException \u001B[38;5;28;01mas\u001B[39;00m e:\n\u001B[0;32m     57\u001B[0m   \u001B[38;5;28;01mif\u001B[39;00m name \u001B[38;5;129;01mis\u001B[39;00m \u001B[38;5;129;01mnot\u001B[39;00m \u001B[38;5;28;01mNone\u001B[39;00m:\n",
      "\u001B[1;31mInvalidArgumentError\u001B[0m: Graph execution error:\n\nInvalid input_h shape: [1,1,100] [1,32,100]\n\t [[{{node CudnnRNN}}]]\n\t [[sequential/lstm/PartitionedCall]] [Op:__inference_train_function_274668]"
     ]
    }
   ],
   "source": [
    "keras.backend.clear_session()\n",
    "tf.random.set_seed(42)\n",
    "np.random.seed(42)\n",
    "\n",
    "window_size = 30\n",
    "train_set = seq2seq_window_dataset(x_train, window_size)\n",
    "\n",
    "model = keras.models.Sequential([\n",
    "    keras.layers.LSTM(100, return_sequences=True, stateful=True,\n",
    "                      batch_input_shape=[1, None, 1]),\n",
    "    keras.layers.LSTM(100, return_sequences=True, stateful=True),\n",
    "    keras.layers.Dense(1),\n",
    "    keras.layers.Lambda(lambda x: x * 200.0)\n",
    "])\n",
    "lr_schedule = keras.callbacks.LearningRateScheduler(\n",
    "    lambda epoch: 1e-8 * 10**(epoch / 20))\n",
    "optimizer = keras.optimizers.SGD(lr=1e-8, momentum=0.9)\n",
    "model.compile(loss=keras.losses.Huber(),\n",
    "              optimizer=optimizer,\n",
    "              metrics=[\"mae\"])\n",
    "history = model.fit(train_set, epochs=100,\n",
    "                    callbacks=[lr_schedule])"
   ],
   "metadata": {
    "collapsed": false
   }
  },
  {
   "cell_type": "code",
   "execution_count": null,
   "outputs": [],
   "source": [],
   "metadata": {
    "collapsed": false
   }
  }
 ],
 "metadata": {
  "kernelspec": {
   "display_name": "Python 3",
   "language": "python",
   "name": "python3"
  },
  "language_info": {
   "codemirror_mode": {
    "name": "ipython",
    "version": 2
   },
   "file_extension": ".py",
   "mimetype": "text/x-python",
   "name": "python",
   "nbconvert_exporter": "python",
   "pygments_lexer": "ipython2",
   "version": "2.7.6"
  }
 },
 "nbformat": 4,
 "nbformat_minor": 0
}
