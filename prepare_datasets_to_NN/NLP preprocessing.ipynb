{
 "cells": [
  {
   "cell_type": "code",
   "execution_count": 24,
   "metadata": {
    "collapsed": true
   },
   "outputs": [],
   "source": [
    "import tensorflow as tf\n",
    "\n",
    "for gpu in tf.config.list_physical_devices('GPU'):\n",
    "    tf.config.experimental.set_memory_growth(gpu, True)\n",
    "\n",
    "import tensorflow_datasets as tfds\n",
    "\n",
    "from tensorflow.keras.preprocessing.text import Tokenizer\n",
    "\n",
    "from tensorflow.keras.preprocessing.sequence import pad_sequences\n",
    "\n",
    "import pandas as pd\n",
    "import numpy as np\n"
   ]
  },
  {
   "cell_type": "code",
   "execution_count": 27,
   "outputs": [],
   "source": [
    "# dataset = pd.read_csv('../datasets/sentiment.csv')\n",
    "# sentences = dataset['text'].to_list()\n",
    "# labels = dataset['sentiment'].to_list()"
   ],
   "metadata": {
    "collapsed": false
   }
  },
  {
   "cell_type": "code",
   "execution_count": null,
   "outputs": [],
   "source": [
    "#dataset as list requied"
   ],
   "metadata": {
    "collapsed": false
   }
  },
  {
   "cell_type": "code",
   "execution_count": 36,
   "outputs": [],
   "source": [
    "sentences_list = sentences\n",
    "\n",
    "params = {  'vocab_size' : 4000,\n",
    "            'embedding_dim' : 16,\n",
    "            'max_length' : 50,\n",
    "            'padding_type' : 'post',\n",
    "            'truncating_type' : 'post',\n",
    "            'tokenization_type' : 'words',\n",
    "            'max_subword_length' : 5}\n",
    "#tokenization type : words or subwords"
   ],
   "metadata": {
    "collapsed": false
   }
  },
  {
   "cell_type": "code",
   "execution_count": 42,
   "outputs": [],
   "source": [
    "def preprocess_sentences(sentences_list,params):\n",
    "    if params['tokenization_type'] == 'words':\n",
    "        tokenizer = Tokenizer(num_words=params['vocab_size'],oov_token='<OOV>')\n",
    "        tokenizer.fit_on_texts(sentences_list)\n",
    "\n",
    "        sequences = tokenizer.texts_to_sequences(sentences_list)\n",
    "\n",
    "        sequences_padded = pad_sequences(sequences,maxlen=params['max_length'],padding=params['padding_type'],truncating=params['truncating_type'])\n",
    "\n",
    "        return sequences_padded\n",
    "\n",
    "    elif params['tokenization_type'] == 'subwords':\n",
    "        tokenizer = tfds.deprecated.text.SubwordTextEncoder.build_from_corpus(sentences_list, params['vocab_size'], max_subword_length=params['max_subword_length'])\n",
    "        sentences_encoded = []\n",
    "        for i, sentence in enumerate(sentences_list):\n",
    "            sentences_encoded[i] = tokenizer.encode(sentence)\n",
    "\n",
    "        sentences_padded = pad_sequences(sentences_encoded, maxlen=params['max_length'],\n",
    "                                         padding=params['padding_type'], truncating=params['truncating_type'])\n",
    "\n",
    "        return sentences_padded\n",
    "    else:\n",
    "        print('Error, wrong type of tokenization')\n"
   ],
   "metadata": {
    "collapsed": false
   }
  },
  {
   "cell_type": "code",
   "execution_count": 43,
   "outputs": [],
   "source": [
    "df = preprocess_sentences(sentences_list,params)"
   ],
   "metadata": {
    "collapsed": false
   }
  },
  {
   "cell_type": "code",
   "execution_count": null,
   "outputs": [],
   "source": [],
   "metadata": {
    "collapsed": false
   }
  }
 ],
 "metadata": {
  "kernelspec": {
   "display_name": "Python 3",
   "language": "python",
   "name": "python3"
  },
  "language_info": {
   "codemirror_mode": {
    "name": "ipython",
    "version": 2
   },
   "file_extension": ".py",
   "mimetype": "text/x-python",
   "name": "python",
   "nbconvert_exporter": "python",
   "pygments_lexer": "ipython2",
   "version": "2.7.6"
  }
 },
 "nbformat": 4,
 "nbformat_minor": 0
}
